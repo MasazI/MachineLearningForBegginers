{
 "metadata": {
  "name": "",
  "signature": "sha256:8dbbd2a29f9ff19c631b1263cd8285f95759831f7ed0976067039506ece205b1"
 },
 "nbformat": 3,
 "nbformat_minor": 0,
 "worksheets": [
  {
   "cells": [
    {
     "cell_type": "heading",
     "level": 1,
     "metadata": {},
     "source": [
      "\u30af\u30e9\u30b9\u30bf\u30ea\u30f3\u30b0"
     ]
    },
    {
     "cell_type": "heading",
     "level": 2,
     "metadata": {},
     "source": [
      "\u6587\u66f8\u306e\u985e\u4f3c\u5ea6\u30fb\u95a2\u9023\u6027"
     ]
    },
    {
     "cell_type": "markdown",
     "metadata": {},
     "source": [
      "\u30c6\u30ad\u30b9\u30c8\u30c7\u30fc\u30bf\u3092but-of-words\u306b\u5909\u63db\u3059\u308b"
     ]
    },
    {
     "cell_type": "code",
     "collapsed": false,
     "input": [
      "from sklearn.feature_extraction.text import CountVectorizer\n",
      "vectorizer = CountVectorizer(min_df=1)"
     ],
     "language": "python",
     "metadata": {},
     "outputs": [],
     "prompt_number": 12
    },
    {
     "cell_type": "markdown",
     "metadata": {},
     "source": [
      "min_df\u306fCountVectorizer\u3067\u5b9a\u7fa9\u3055\u308c\u308b\u3002  \n",
      "http://scikit-learn.org/stable/modules/generated/sklearn.feature_extraction.text.CountVectorizer.html  \n",
      "\u983b\u7e41\u306b\u4f7f\u308f\u308c\u3066\u3044\u306a\u3044\u30ef\u30fc\u30c9\u3092\u7121\u8996\u3059\u308b\u3068\u304d\u306b\u4f7f\u7528\u3059\u308b\u3002  \n",
      "\u8a2d\u5b9a\u3059\u308b\u5024\u304c\u6574\u6570\u306e\u5834\u5408\u3001\u305d\u306e\u6570\u3088\u308a\u51fa\u73fe\u56de\u6570\u306e\u5c0f\u3055\u3044\u5358\u8a9e\u306f\u7121\u8996\u3059\u308b\u3002\u5024\u304c0\u304b\u30891\u306e\u9593\u306e\u5834\u5408\u3001\u30c7\u30fc\u30bf\u30bb\u30c3\u30c8\u306e\u6570\u306b\u5bfe\u3059\u308b\u5272\u5408\u306e\u95be\u5024\u3092\u793a\u3057\u3001\u95be\u5024\u3088\u308a\u5c0f\u3055\u3044\u51fa\u73fe\u983b\u5ea6\u306e\u5358\u8a9e\u3092\u7121\u8996\u3059\u308b\u3002"
     ]
    },
    {
     "cell_type": "code",
     "collapsed": false,
     "input": [
      "print(vectorizer)"
     ],
     "language": "python",
     "metadata": {},
     "outputs": [
      {
       "output_type": "stream",
       "stream": "stdout",
       "text": [
        "CountVectorizer(analyzer=word, binary=False, charset=None, charset_error=None,\n",
        "        decode_error=strict, dtype=<type 'numpy.int64'>, encoding=utf-8,\n",
        "        input=content, lowercase=True, max_df=1.0, max_features=None,\n",
        "        min_df=1, ngram_range=(1, 1), preprocessor=None, stop_words=None,\n",
        "        strip_accents=None, token_pattern=(?u)\\b\\w\\w+\\b, tokenizer=None,\n",
        "        vocabulary=None)\n"
       ]
      }
     ],
     "prompt_number": 13
    },
    {
     "cell_type": "markdown",
     "metadata": {},
     "source": [
      "\u4e0a\u8a18\u306f\u3001Scikit\u304c\u30c7\u30d5\u30a9\u30eb\u30c8\u3067\u9078\u629e\u3059\u308b\u30d1\u30e9\u30e1\u30fc\u30bf\u3092\u8868\u793a\u3057\u3066\u3044\u308b\u3002  \n",
      "analyzer=word\u306f\u5358\u8a9e\u30ec\u30d9\u30eb\u3067\u51fa\u73fe\u56de\u6570\u304c\u6570\u3048\u3089\u308c\u3066\u3044\u308b\u3053\u3068\u3092\u793a\u3057\u3066\u3044\u308b\u3002  \n",
      "token_pattern\u306f\u6b63\u898f\u8868\u73fe\u3067\u8a18\u8ff0\u3055\u308c\u3066\u3044\u3066\u3001\u5358\u8a9e\u306e\u6c7a\u5b9a\u65b9\u6cd5\u3092\u5b9a\u7fa9\u3059\u308b\u3002  "
     ]
    },
    {
     "cell_type": "code",
     "collapsed": false,
     "input": [
      "content = [\"How to format my hard disk\", \"Hard disk format problems \"]\n",
      "X = vectorizer.fit_transform(content)\n",
      "vectorizer.get_feature_names()"
     ],
     "language": "python",
     "metadata": {},
     "outputs": [
      {
       "metadata": {},
       "output_type": "pyout",
       "prompt_number": 14,
       "text": [
        "[u'disk', u'format', u'hard', u'how', u'my', u'problems', u'to']"
       ]
      }
     ],
     "prompt_number": 14
    },
    {
     "cell_type": "code",
     "collapsed": false,
     "input": [
      "print X.toarray()"
     ],
     "language": "python",
     "metadata": {},
     "outputs": [
      {
       "output_type": "stream",
       "stream": "stdout",
       "text": [
        "[[1 1 1 1 1 0 1]\n",
        " [1 1 1 0 0 1 0]]\n"
       ]
      }
     ],
     "prompt_number": 15
    },
    {
     "cell_type": "code",
     "collapsed": false,
     "input": [
      "print X.toarray().transpose()"
     ],
     "language": "python",
     "metadata": {},
     "outputs": [
      {
       "output_type": "stream",
       "stream": "stdout",
       "text": [
        "[[1 1]\n",
        " [1 1]\n",
        " [1 1]\n",
        " [1 0]\n",
        " [1 0]\n",
        " [0 1]\n",
        " [1 0]]\n"
       ]
      }
     ],
     "prompt_number": 16
    },
    {
     "cell_type": "markdown",
     "metadata": {},
     "source": [
      "X\u306b\u306f\u6587\u7ae0\u306b\u542b\u307e\u308c\u308b\u5358\u8a9e\u3092\u8868\u73fe\u3057\u305f\u30d9\u30af\u30c8\u30eb\u3067\u3042\u308b\u30021\u5217\u76ee\u304c1\u3064\u3081\u30012\u5217\u76ee\u304c2\u3064\u3081\u306e\u6587\u7ae0\u306e\u30d9\u30af\u30c8\u30eb\u3067\u3042\u308b\u3002"
     ]
    },
    {
     "cell_type": "heading",
     "level": 4,
     "metadata": {},
     "source": [
      "\u758e\u306a\u30d9\u30af\u30c8\u30eb\u306e\u6271\u3044"
     ]
    },
    {
     "cell_type": "code",
     "collapsed": false,
     "input": [
      "print X"
     ],
     "language": "python",
     "metadata": {},
     "outputs": [
      {
       "output_type": "stream",
       "stream": "stdout",
       "text": [
        "  (0, 0)\t1\n",
        "  (1, 0)\t1\n",
        "  (0, 1)\t1\n",
        "  (1, 1)\t1\n",
        "  (0, 2)\t1\n",
        "  (1, 2)\t1\n",
        "  (0, 3)\t1\n",
        "  (0, 4)\t1\n",
        "  (1, 5)\t1\n",
        "  (0, 6)\t1\n"
       ]
      }
     ],
     "prompt_number": 17
    },
    {
     "cell_type": "markdown",
     "metadata": {},
     "source": [
      "\u4e0a\u8a18\u306f\u5909\u6570X\u3092\u305d\u306e\u307e\u307e\u8868\u793a\u3057\u305f\u3082\u306e\u3067\u3042\u308b\u3002\u758e\u306a\u30d9\u30af\u30c8\u30eb\u3092\u6271\u3046\u305f\u3081\u3001\u51fa\u73fe\u3057\u305f\u5358\u8a9e\u306e\u307f\u306e\u30c7\u30fc\u30bf\u3092\u4fdd\u6301\u3059\u308b\u3088\u3046\u306b\u5de5\u592b\u3055\u308c\u3066\u3044\u308b\u30021\u5217\u76ee\u304c\u6587\u7ae0\u306e\u30a4\u30f3\u30c7\u30c3\u30af\u30b9\u30012\u5217\u76ee\u304c\u5358\u8a9e\u306e\u30a4\u30f3\u30c7\u30c3\u30af\u30b9\u3092\u793a\u3057\u3066\u3044\u308b\u3002  \n",
      "\u4f8b\u3048\u3070\u3001(0,0)\u306f1\u3064\u3081\u306e\u6587\u7ae0\u306b1\u3064\u3081\u306e\u5358\u8a9e\u304c\u542b\u307e\u308c\u3066\u3044\u308b\u3053\u3068\u3092\u793a\u3059\u3002\u307e\u305f\u30012\u3064\u3081\u306e\u6587\u7ae0\u306b3\u3064\u3081\u306e\u5358\u8a9e\u304c\u542b\u307e\u308c\u3066\u3044\u306a\u3044\u3001\u3053\u3068\u304c\u308f\u304b\u308b\u3002\u5185\u90e8\u5b9f\u88c5\u306f coo_matrix (COOrdinate)"
     ]
    },
    {
     "cell_type": "heading",
     "level": 3,
     "metadata": {},
     "source": [
      "\u5358\u8a9e\u3092\u6570\u3048\u308b"
     ]
    },
    {
     "cell_type": "code",
     "collapsed": false,
     "input": [
      "import os\n",
      "import sys\n",
      "\n",
      "import scipy as sp\n",
      "\n",
      "sys.path.append('/Users/masai/Documents/BuildingMachineLearningSystemsWithPython/ch03')\n",
      "\n",
      "from utils import DATA_DIR\n",
      "\n",
      "TOY_DIR = os.path.join(DATA_DIR, \"toy\")\n",
      "\n",
      "posts = [open(os.path.join(TOY_DIR, f)).read() for f in os.listdir(TOY_DIR)]"
     ],
     "language": "python",
     "metadata": {},
     "outputs": [],
     "prompt_number": 18
    },
    {
     "cell_type": "code",
     "collapsed": false,
     "input": [
      "print posts"
     ],
     "language": "python",
     "metadata": {},
     "outputs": [
      {
       "output_type": "stream",
       "stream": "stdout",
       "text": [
        "['This is a toy post about machine learning. Actually, it contains not much interesting stuff.', 'Imaging databases provide storage capabilities.', 'Most imaging databases save images permanently.\\n', 'Imaging databases store data.', 'Imaging databases store data. Imaging databases store data. Imaging databases store data.']\n"
       ]
      }
     ],
     "prompt_number": 19
    },
    {
     "cell_type": "markdown",
     "metadata": {},
     "source": [
      "os\u306fos.path\u30e2\u30b8\u30e5\u30fc\u30eb\u3092\u4f7f\u3063\u3066\u30d5\u30a1\u30a4\u30eb\u306e\u5165\u51fa\u529b\u3092\u884c\u3046\u305f\u3081\u306b\u5229\u7528\u3059\u308b\u3002  \n",
      "sys\u3092\u5229\u7528\u3057\u3066\u3001import\u5148\u306e\u30d5\u30a1\u30a4\u30eb\u30d1\u30b9\u3092\u8ffd\u52a0\u3059\u308b\u3002  \n",
      "http://kannokanno.hatenablog.com/entry/20130503/1367571825"
     ]
    },
    {
     "cell_type": "markdown",
     "metadata": {},
     "source": [
      "\u65e9\u901f\u3001\u4e0a\u8a18\u3067\u30ed\u30fc\u30c9\u3057\u305f\u30d5\u30a1\u30a4\u30eb\u306e\u5358\u8a9e\u3092\u6570\u3048\u3066\u307f\u307e\u3057\u3087\u3046\u3002"
     ]
    },
    {
     "cell_type": "code",
     "collapsed": false,
     "input": [
      "X_train = vectorizer.fit_transform(posts)"
     ],
     "language": "python",
     "metadata": {},
     "outputs": [],
     "prompt_number": 20
    },
    {
     "cell_type": "code",
     "collapsed": false,
     "input": [
      "num_samples, num_features = X_train.shape"
     ],
     "language": "python",
     "metadata": {},
     "outputs": [],
     "prompt_number": 21
    },
    {
     "cell_type": "code",
     "collapsed": false,
     "input": [
      "print(\"#samples: %d, #features: %d\" % (num_samples,num_features))"
     ],
     "language": "python",
     "metadata": {},
     "outputs": [
      {
       "output_type": "stream",
       "stream": "stdout",
       "text": [
        "#samples: 5, #features: 25\n"
       ]
      }
     ],
     "prompt_number": 22
    },
    {
     "cell_type": "markdown",
     "metadata": {},
     "source": [
      "\u4e0a\u8a18\u306f\u30015\u3064\u306e\u6587\u66f8\u306825\u500b\u306e\u5358\u8a9e\u304c\u5b58\u5728\u3059\u308b\u3053\u3068\u3092\u793a\u3059\u3002"
     ]
    },
    {
     "cell_type": "code",
     "collapsed": false,
     "input": [
      "print(vectorizer.get_feature_names())"
     ],
     "language": "python",
     "metadata": {},
     "outputs": [
      {
       "output_type": "stream",
       "stream": "stdout",
       "text": [
        "[u'about', u'actually', u'capabilities', u'contains', u'data', u'databases', u'images', u'imaging', u'interesting', u'is', u'it', u'learning', u'machine', u'most', u'much', u'not', u'permanently', u'post', u'provide', u'save', u'storage', u'store', u'stuff', u'this', u'toy']\n"
       ]
      }
     ],
     "prompt_number": 23
    },
    {
     "cell_type": "heading",
     "level": 3,
     "metadata": {},
     "source": [
      "vectorizer\u306b\u65b0\u3057\u3044\u6587\u66f8\u3092\u8ffd\u52a0"
     ]
    },
    {
     "cell_type": "code",
     "collapsed": false,
     "input": [
      "new_post = \"imaging databases\"\n",
      "new_post_vec = vectorizer.transform([new_post])\n",
      "print(new_post_vec)"
     ],
     "language": "python",
     "metadata": {},
     "outputs": [
      {
       "output_type": "stream",
       "stream": "stdout",
       "text": [
        "  (0, 5)\t1\n",
        "  (0, 7)\t1\n"
       ]
      }
     ],
     "prompt_number": 24
    },
    {
     "cell_type": "heading",
     "level": 4,
     "metadata": {},
     "source": [
      "NumPy\u306e\u914d\u5217\u3067\u8868\u73fe\u3059\u308b"
     ]
    },
    {
     "cell_type": "markdown",
     "metadata": {},
     "source": [
      "\u30d9\u30af\u30c8\u30eb\u5316\u3057\u305f\u30c7\u30fc\u30bf\u306f\u3001toarray()\u30e1\u30bd\u30c3\u30c9\u3092\u7528\u3044\u308b\u3068NumPy\u306endarray\u3067\u8868\u73fe\u3067\u304d\u308b\u3002  \n",
      "\u985e\u4f3c\u5ea6\u306a\u3069\u306e\u8a08\u7b97\u306b\u7528\u3044\u308b\u30d9\u30af\u30c8\u30eb\u8868\u73fe\u306f\u3001\u3053\u3061\u3089\u3067\u3042\u308b\u3002  \n",
      "\u30d9\u30af\u30c8\u30eb\u304c\u30b9\u30d1\u30fc\u30b9\u3067\u3042\u308b\u3053\u3068\u304c\u308f\u304b\u308b\u3002"
     ]
    },
    {
     "cell_type": "code",
     "collapsed": false,
     "input": [
      "print(new_post_vec.toarray())"
     ],
     "language": "python",
     "metadata": {},
     "outputs": [
      {
       "output_type": "stream",
       "stream": "stdout",
       "text": [
        "[[0 0 0 0 0 1 0 1 0 0 0 0 0 0 0 0 0 0 0 0 0 0 0 0 0]]\n"
       ]
      }
     ],
     "prompt_number": 25
    },
    {
     "cell_type": "heading",
     "level": 4,
     "metadata": {},
     "source": [
      "\u985e\u4f3c\u5ea6\u306e\u8a08\u7b97"
     ]
    },
    {
     "cell_type": "markdown",
     "metadata": {},
     "source": [
      "SciPy\u3092\u7528\u3044\u3066\u30e6\u30fc\u30af\u30ea\u30c3\u30c9\u8ddd\u96e2\u3092\u8a08\u7b97\u3059\u308b\u3002procedure dist_raw\u3092\u5b9a\u7fa9\u3059\u308b\u3002scipy\u306eprocedure norm\u3092\u5229\u7528\u3059\u308b\u3002"
     ]
    },
    {
     "cell_type": "code",
     "collapsed": false,
     "input": [
      "import numpy as np\n",
      "import scipy as sp\n",
      "\n",
      "def dist_raw(v1, v2):\n",
      "    delta = v1 - v2\n",
      "    return sp.linalg.norm(delta.toarray())"
     ],
     "language": "python",
     "metadata": {},
     "outputs": [],
     "prompt_number": 26
    },
    {
     "cell_type": "markdown",
     "metadata": {},
     "source": [
      "linalg \u306f\u30d9\u30af\u30c8\u30eb delta \u306e\u9577\u3055\u3092\u5f97\u308b\u3002  \n",
      "new_post\u3068\u4ed6\u306e\u6587\u66f8\u3068\u306e\u8ddd\u96e2\u3092\u8a08\u7b97\u3057\u3066\u3001\u6700\u3082\u985e\u4f3c\u3057\u305f\u6587\u66f8\u3092\u63a2\u3059"
     ]
    },
    {
     "cell_type": "code",
     "collapsed": false,
     "input": [
      "import sys\n",
      "best_doc = None\n",
      "best_dist = sys.maxint\n",
      "best_i = None\n",
      "for i in range(0, num_samples):\n",
      "    post = posts[i]\n",
      "    if post == new_post:\n",
      "        continue\n",
      "    post_vec = X_train.getrow(i)\n",
      "    d = dist_raw(post_vec, new_post_vec)\n",
      "    print \"=== Post %i with dist=%.2f: %s\" %(i, d, post)\n",
      "    if d < best_dist:\n",
      "        best_dist = d\n",
      "        best_i = i\n",
      "print(\"Best post is %i with dist=%.2f\"%(best_i, best_dist))"
     ],
     "language": "python",
     "metadata": {},
     "outputs": [
      {
       "output_type": "stream",
       "stream": "stdout",
       "text": [
        "=== Post 0 with dist=4.00: This is a toy post about machine learning. Actually, it contains not much interesting stuff.\n",
        "=== Post 1 with dist=1.73: Imaging databases provide storage capabilities.\n",
        "=== Post 2 with dist=2.00: Most imaging databases save images permanently.\n",
        "\n",
        "=== Post 3 with dist=1.41: Imaging databases store data.\n",
        "=== Post 4 with dist=5.10: Imaging databases store data. Imaging databases store data. Imaging databases store data.\n",
        "Best post is 3 with dist=1.41\n"
       ]
      }
     ],
     "prompt_number": 27
    },
    {
     "cell_type": "markdown",
     "metadata": {},
     "source": [
      "sys\u306f\u3001python\u306e\u6574\u6570\u578b\u3067\u30b5\u30dd\u30fc\u30c8\u3055\u308c\u308b\u6700\u5927\u306e\u6574\u6570\u3092\u5f97\u308b\u305f\u3081\u306b\u4f7f\u7528\u3059\u308b\u3002  \n",
      "best_dist\u306f\u3001\u6700\u5c0f\u306e\u30e6\u30fc\u30af\u30ea\u30c3\u30c9\u8ddd\u96e2\u3092\u683c\u7d0d\u3059\u308b\u3002  \n",
      "best_i\u306f\u3001\u6700\u5c0f\u306e\u30e6\u30fc\u30af\u30ea\u30c3\u30c9\u8ddd\u96e2\u3092\u8a18\u9332\u3057\u305f\u6587\u66f8\u306eindex\u3092\u683c\u7d0d\u3059\u308b\u3002  \n",
      "\u6587\u66f8\u306e\u6570\u3067\u30eb\u30fc\u30d7\u3059\u308b\u305f\u3081\u306b\u3001range(0, num_samples)\u3092\u5229\u7528\u3059\u308b\u3002  \n"
     ]
    },
    {
     "cell_type": "code",
     "collapsed": false,
     "input": [
      "print X_train.shape"
     ],
     "language": "python",
     "metadata": {},
     "outputs": [
      {
       "output_type": "stream",
       "stream": "stdout",
       "text": [
        "(5, 25)\n"
       ]
      }
     ],
     "prompt_number": 31
    },
    {
     "cell_type": "code",
     "collapsed": false,
     "input": [
      "print X_train.toarray()"
     ],
     "language": "python",
     "metadata": {},
     "outputs": [
      {
       "output_type": "stream",
       "stream": "stdout",
       "text": [
        "[[1 1 0 1 0 0 0 0 1 1 1 1 1 0 1 1 0 1 0 0 0 0 1 1 1]\n",
        " [0 0 1 0 0 1 0 1 0 0 0 0 0 0 0 0 0 0 1 0 1 0 0 0 0]\n",
        " [0 0 0 0 0 1 1 1 0 0 0 0 0 1 0 0 1 0 0 1 0 0 0 0 0]\n",
        " [0 0 0 0 1 1 0 1 0 0 0 0 0 0 0 0 0 0 0 0 0 1 0 0 0]\n",
        " [0 0 0 0 3 3 0 3 0 0 0 0 0 0 0 0 0 0 0 0 0 3 0 0 0]]\n"
       ]
      }
     ],
     "prompt_number": 35
    },
    {
     "cell_type": "markdown",
     "metadata": {},
     "source": [
      "\u4e0a\u8a18\u304b\u3089\u308f\u304b\u308b\u3088\u3046\u306b\u3001X_train\u306f5\u884c25\u5217\u306e\u884c\u5217\u3067\u3042\u308b\u3002  \n",
      "\u5404\u884c\u306f\u6587\u66f8\u306b\u5bfe\u5fdc\u3057\u3001\u305d\u308c\u305e\u308c\u306e\u6587\u66f8\u306b\u542b\u307e\u308c\u308b\u5358\u8a9e\u306e\u30a4\u30f3\u30c7\u30c3\u30af\u30b9\u3092\u4fdd\u6301\u3059\u308b\u3002"
     ]
    },
    {
     "cell_type": "code",
     "collapsed": false,
     "input": [
      "print X_train"
     ],
     "language": "python",
     "metadata": {},
     "outputs": [
      {
       "output_type": "stream",
       "stream": "stdout",
       "text": [
        "  (0, 0)\t1\n",
        "  (0, 1)\t1\n",
        "  (1, 2)\t1\n",
        "  (0, 3)\t1\n",
        "  (3, 4)\t1\n",
        "  (4, 4)\t3\n",
        "  (1, 5)\t1\n",
        "  (2, 5)\t1\n",
        "  (3, 5)\t1\n",
        "  (4, 5)\t3\n",
        "  (2, 6)\t1\n",
        "  (1, 7)\t1\n",
        "  (2, 7)\t1\n",
        "  (3, 7)\t1\n",
        "  (4, 7)\t3\n",
        "  (0, 8)\t1\n",
        "  (0, 9)\t1\n",
        "  (0, 10)\t1\n",
        "  (0, 11)\t1\n",
        "  (0, 12)\t1\n",
        "  (2, 13)\t1\n",
        "  (0, 14)\t1\n",
        "  (0, 15)\t1\n",
        "  (2, 16)\t1\n",
        "  (0, 17)\t1\n",
        "  (1, 18)\t1\n",
        "  (2, 19)\t1\n",
        "  (1, 20)\t1\n",
        "  (3, 21)\t1\n",
        "  (4, 21)\t3\n",
        "  (0, 22)\t1\n",
        "  (0, 23)\t1\n",
        "  (0, 24)\t1\n"
       ]
      }
     ],
     "prompt_number": 32
    },
    {
     "cell_type": "markdown",
     "metadata": {},
     "source": [
      "0\u884c\u76ee\u3092\u53d6\u308a\u51fa\u3059"
     ]
    },
    {
     "cell_type": "code",
     "collapsed": false,
     "input": [
      "print X_train.getrow(0)"
     ],
     "language": "python",
     "metadata": {},
     "outputs": [
      {
       "output_type": "stream",
       "stream": "stdout",
       "text": [
        "  (0, 0)\t1\n",
        "  (0, 1)\t1\n",
        "  (0, 3)\t1\n",
        "  (0, 8)\t1\n",
        "  (0, 9)\t1\n",
        "  (0, 10)\t1\n",
        "  (0, 11)\t1\n",
        "  (0, 12)\t1\n",
        "  (0, 14)\t1\n",
        "  (0, 15)\t1\n",
        "  (0, 17)\t1\n",
        "  (0, 22)\t1\n",
        "  (0, 23)\t1\n",
        "  (0, 24)\t1\n"
       ]
      }
     ],
     "prompt_number": 30
    },
    {
     "cell_type": "markdown",
     "metadata": {},
     "source": [
      "1\u884c\u76ee\u3092\u53d6\u308a\u51fa\u3059"
     ]
    },
    {
     "cell_type": "code",
     "collapsed": false,
     "input": [
      "print X_train.getrow(1)"
     ],
     "language": "python",
     "metadata": {},
     "outputs": [
      {
       "output_type": "stream",
       "stream": "stdout",
       "text": [
        "  (0, 2)\t1\n",
        "  (0, 5)\t1\n",
        "  (0, 7)\t1\n",
        "  (0, 18)\t1\n",
        "  (0, 20)\t1\n"
       ]
      }
     ],
     "prompt_number": 60
    },
    {
     "cell_type": "markdown",
     "metadata": {},
     "source": [
      "1\u884c\u76ee\u306e\u30d9\u30af\u30c8\u30eb\u8868\u73fe"
     ]
    },
    {
     "cell_type": "code",
     "collapsed": false,
     "input": [
      "print X_train.getrow(1).toarray()"
     ],
     "language": "python",
     "metadata": {},
     "outputs": [
      {
       "output_type": "stream",
       "stream": "stdout",
       "text": [
        "[[0 0 1 0 0 1 0 1 0 0 0 0 0 0 0 0 0 0 1 0 1 0 0 0 0]]\n"
       ]
      }
     ],
     "prompt_number": 61
    },
    {
     "cell_type": "heading",
     "level": 4,
     "metadata": {},
     "source": [
      "\u5358\u8a9e\u306e\u51fa\u73fe\u56de\u6570\u30d9\u30af\u30c8\u30eb\u306e\u6b63\u898f\u5316"
     ]
    },
    {
     "cell_type": "markdown",
     "metadata": {},
     "source": [
      "\u51fa\u73fe\u56de\u6570\u3092\u6b63\u898f\u5316\uff1a\u5358\u8a9e\u306e\u51fa\u73fe\u56de\u6570\u306b\u3088\u3063\u3066\u985e\u4f3c\u5ea6\u304c\u5897\u5927\u3057\u306a\u3044\u3088\u3046\u306b\u3059\u308b\u3002  \n",
      "\u305d\u306e\u305f\u3081\u306b\u306f\u3001\u8ddd\u96e2\u3092\u4e0e\u3048\u308b\u95a2\u6570\u3092\u5909\u66f4\u3059\u308b\u3002  \n",
      "a / sp.linalg.norm(a) \u3068\u3059\u308b\u3053\u3068\u306b\u3088\u308a\u3001\u30d9\u30af\u30c8\u30eba\u3092\u6b63\u898f\u5316\u3067\u304d\u308b\u3002"
     ]
    },
    {
     "cell_type": "code",
     "collapsed": false,
     "input": [
      "def dist_norm(v1, v2):\n",
      "    v1_normalized = v1 / sp.linalg.norm(v1.toarray())\n",
      "    v2_normalized = v2 / sp.linalg.norm(v2.toarray())\n",
      "    delta = v1_normalized - v2_normalized\n",
      "    return sp.linalg.norm(delta.toarray())"
     ],
     "language": "python",
     "metadata": {},
     "outputs": [],
     "prompt_number": 38
    },
    {
     "cell_type": "code",
     "collapsed": false,
     "input": [
      "import sys\n",
      "best_doc = None\n",
      "best_dist = sys.maxint\n",
      "best_i = None\n",
      "for i in range(0, num_samples):\n",
      "    post = posts[i]\n",
      "    if post == new_post:\n",
      "        continue\n",
      "    post_vec = X_train.getrow(i)\n",
      "    d = dist_norm(post_vec, new_post_vec)\n",
      "    print \"=== Post %i with dist=%.2f: %s\" %(i, d, post)\n",
      "    if d < best_dist:\n",
      "        best_dist = d\n",
      "        best_i = i\n",
      "print(\"Best post is %i with dist=%.2f\"%(best_i, best_dist))"
     ],
     "language": "python",
     "metadata": {},
     "outputs": [
      {
       "output_type": "stream",
       "stream": "stdout",
       "text": [
        "=== Post 0 with dist=1.41: This is a toy post about machine learning. Actually, it contains not much interesting stuff.\n",
        "=== Post 1 with dist=0.86: Imaging databases provide storage capabilities.\n",
        "=== Post 2 with dist=0.92: Most imaging databases save images permanently.\n",
        "\n",
        "=== Post 3 with dist=0.77: Imaging databases store data.\n",
        "=== Post 4 with dist=0.77: Imaging databases store data. Imaging databases store data. Imaging databases store data.\n",
        "Best post is 3 with dist=0.77\n"
       ]
      }
     ],
     "prompt_number": 39
    },
    {
     "cell_type": "heading",
     "level": 3,
     "metadata": {},
     "source": [
      "\u91cd\u8981\u5ea6\u306e\u4f4e\u3044\u5358\u8a9e\u3092\u53d6\u308a\u9664\u304f"
     ]
    },
    {
     "cell_type": "markdown",
     "metadata": {},
     "source": [
      "\u6587\u7ae0\u306e\u5206\u985e\u306b\u8ca2\u732e\u3057\u306a\u3044 stop word\u3068\u547c\u3070\u308c\u308b\u3001\u69d8\u3005\u306a\u6587\u7ae0\u306b\u3088\u304f\u542b\u307e\u308c\u308b\u5358\u8a9e\u3092\u5bfe\u8c61\u5916\u306b\u3059\u308b\u51e6\u7406\u304c\u3088\u304f\u884c\u308f\u308c\u308b\u3002  \n",
      "\u30c6\u30ad\u30b9\u30c8\u51e6\u7406\u306e\u305f\u3081\u306e CountVectorizer \u306b\u306f\u3001stop word \u3092\u767b\u9332\u3059\u308b\u6a5f\u80fd\u304c\u3042\u308b\u3002"
     ]
    },
    {
     "cell_type": "code",
     "collapsed": false,
     "input": [
      "vectorizer = CountVectorizer(min_df=1, stop_words='english')"
     ],
     "language": "python",
     "metadata": {},
     "outputs": [],
     "prompt_number": 40
    },
    {
     "cell_type": "code",
     "collapsed": false,
     "input": [
      "print vectorizer.get_stop_words()"
     ],
     "language": "python",
     "metadata": {},
     "outputs": [
      {
       "output_type": "stream",
       "stream": "stdout",
       "text": [
        "frozenset(['all', 'six', 'less', 'being', 'indeed', 'over', 'move', 'anyway', 'four', 'not', 'own', 'through', 'yourselves', 'fify', 'where', 'mill', 'only', 'find', 'before', 'one', 'whose', 'system', 'how', 'somewhere', 'with', 'thick', 'show', 'had', 'enough', 'should', 'to', 'must', 'whom', 'seeming', 'under', 'ours', 'has', 'might', 'thereafter', 'latterly', 'do', 'them', 'his', 'around', 'than', 'get', 'very', 'de', 'none', 'cannot', 'every', 'whether', 'they', 'front', 'during', 'thus', 'now', 'him', 'nor', 'name', 'several', 'hereafter', 'always', 'who', 'cry', 'whither', 'this', 'someone', 'either', 'each', 'become', 'thereupon', 'sometime', 'side', 'two', 'therein', 'twelve', 'because', 'often', 'ten', 'our', 'eg', 'some', 'back', 'up', 'go', 'namely', 'towards', 'are', 'further', 'beyond', 'ourselves', 'yet', 'out', 'even', 'will', 'what', 'still', 'for', 'bottom', 'mine', 'since', 'please', 'forty', 'per', 'its', 'everything', 'behind', 'un', 'above', 'between', 'it', 'neither', 'seemed', 'ever', 'across', 'she', 'somehow', 'be', 'we', 'full', 'never', 'sixty', 'however', 'here', 'otherwise', 'were', 'whereupon', 'nowhere', 'although', 'found', 'alone', 're', 'along', 'fifteen', 'by', 'both', 'about', 'last', 'would', 'anything', 'via', 'many', 'could', 'thence', 'put', 'against', 'keep', 'etc', 'amount', 'became', 'ltd', 'hence', 'onto', 'or', 'con', 'among', 'already', 'co', 'afterwards', 'formerly', 'within', 'seems', 'into', 'others', 'while', 'whatever', 'except', 'down', 'hers', 'everyone', 'done', 'least', 'another', 'whoever', 'moreover', 'couldnt', 'throughout', 'anyhow', 'yourself', 'three', 'from', 'her', 'few', 'together', 'top', 'there', 'due', 'been', 'next', 'anyone', 'eleven', 'much', 'call', 'therefore', 'interest', 'then', 'thru', 'themselves', 'hundred', 'was', 'sincere', 'empty', 'more', 'himself', 'elsewhere', 'mostly', 'on', 'fire', 'am', 'becoming', 'hereby', 'amongst', 'else', 'part', 'everywhere', 'too', 'herself', 'former', 'those', 'he', 'me', 'myself', 'made', 'twenty', 'these', 'bill', 'cant', 'us', 'until', 'besides', 'nevertheless', 'below', 'anywhere', 'nine', 'can', 'of', 'your', 'toward', 'my', 'something', 'and', 'whereafter', 'whenever', 'give', 'almost', 'wherever', 'is', 'describe', 'beforehand', 'herein', 'an', 'as', 'itself', 'at', 'have', 'in', 'seem', 'whence', 'ie', 'any', 'fill', 'again', 'hasnt', 'inc', 'thereby', 'thin', 'no', 'perhaps', 'latter', 'meanwhile', 'when', 'detail', 'same', 'wherein', 'beside', 'also', 'that', 'other', 'take', 'which', 'becomes', 'you', 'if', 'nobody', 'see', 'though', 'may', 'after', 'upon', 'most', 'hereupon', 'eight', 'but', 'serious', 'nothing', 'such', 'why', 'a', 'off', 'whereby', 'third', 'i', 'whole', 'noone', 'sometimes', 'well', 'amoungst', 'yours', 'their', 'rather', 'without', 'so', 'five', 'the', 'first', 'whereas', 'once'])\n"
       ]
      }
     ],
     "prompt_number": 43
    },
    {
     "cell_type": "markdown",
     "metadata": {},
     "source": [
      "english \u3068\u6307\u5b9a\u3059\u308b\u3060\u3051\u3067\u3001318\u500b\u306estop words\u304c\u767b\u9332\u3055\u308c\u308b\u3002"
     ]
    },
    {
     "cell_type": "code",
     "collapsed": false,
     "input": [
      "X_train = vectorizer.fit_transform(posts)"
     ],
     "language": "python",
     "metadata": {},
     "outputs": [],
     "prompt_number": 44
    },
    {
     "cell_type": "code",
     "collapsed": false,
     "input": [
      "print X_train.shape"
     ],
     "language": "python",
     "metadata": {},
     "outputs": [
      {
       "output_type": "stream",
       "stream": "stdout",
       "text": [
        "(5, 18)\n"
       ]
      }
     ],
     "prompt_number": 45
    },
    {
     "cell_type": "markdown",
     "metadata": {},
     "source": [
      "\u5358\u8a9e\u306e\u6570\u304c 27 \u304b\u3089 18 \u500b\u306b\u306a\u308b\u3002\u3064\u307e\u308a\u3001\u5148\u307b\u3069\u307e\u3067\u306f\u7121\u99c4\u304c\u3042\u3063\u305f\u3001\u3068\u3044\u3046\u308f\u3051\u3060\u3002  \n",
      "\u6539\u3081\u3066\u985e\u4f3c\u5ea6\u3092\u8a08\u7b97\u3059\u308b\u3068\u4ee5\u4e0b\u306e\u3088\u3046\u306b\u306a\u308b\u3002"
     ]
    },
    {
     "cell_type": "markdown",
     "metadata": {},
     "source": [
      "\u6b21\u306bquery\u7528\u306e\u30d9\u30af\u30c8\u30eb\u3092\u751f\u6210\u3059\u308b\u3002vectorizer\u3092\u4f7f\u3063\u3066\u3001\u65b0\u3057\u3044\u6587\u66f8new_post\u306e\u307f\u306e\u30d9\u30af\u30c8\u30eb\u3092\u751f\u6210\u3059\u308b\u3002"
     ]
    },
    {
     "cell_type": "code",
     "collapsed": false,
     "input": [
      "new_post = \"imaging databases\"\n",
      "new_post_vec = vectorizer.transform([new_post])\n",
      "print(new_post_vec)"
     ],
     "language": "python",
     "metadata": {},
     "outputs": [
      {
       "output_type": "stream",
       "stream": "stdout",
       "text": [
        "  (0, 4)\t1\n",
        "  (0, 6)\t1\n"
       ]
      }
     ],
     "prompt_number": 47
    },
    {
     "cell_type": "markdown",
     "metadata": {},
     "source": [
      "\u30af\u30a8\u30ea\u3068\u30c7\u30fc\u30bf\u30d9\u30fc\u30b9\u3092\u6bd4\u8f03\u3057\u3066\u6587\u66f8\u9593\u306e\u985e\u4f3c\u5ea6\u3092\u8a08\u7b97\u3059\u308b\u3002"
     ]
    },
    {
     "cell_type": "code",
     "collapsed": false,
     "input": [
      "import sys\n",
      "best_doc = None\n",
      "best_dist = sys.maxint\n",
      "best_i = None\n",
      "for i in range(0, num_samples):\n",
      "    post = posts[i]\n",
      "    if post == new_post:\n",
      "        continue\n",
      "    post_vec = X_train.getrow(i)\n",
      "    d = dist_norm(post_vec, new_post_vec)\n",
      "    print \"=== Post %i with dist=%.2f: %s\" %(i, d, post)\n",
      "    if d < best_dist:\n",
      "        best_dist = d\n",
      "        best_i = i\n",
      "print(\"Best post is %i with dist=%.2f\"%(best_i, best_dist))"
     ],
     "language": "python",
     "metadata": {},
     "outputs": [
      {
       "output_type": "stream",
       "stream": "stdout",
       "text": [
        "=== Post 0 with dist=1.41: This is a toy post about machine learning. Actually, it contains not much interesting stuff.\n",
        "=== Post 1 with dist=0.86: Imaging databases provide storage capabilities.\n",
        "=== Post 2 with dist=0.86: Most imaging databases save images permanently.\n",
        "\n",
        "=== Post 3 with dist=0.77: Imaging databases store data.\n",
        "=== Post 4 with dist=0.77: Imaging databases store data. Imaging databases store data. Imaging databases store data.\n",
        "Best post is 3 with dist=0.77\n"
       ]
      }
     ],
     "prompt_number": 48
    },
    {
     "cell_type": "heading",
     "level": 3,
     "metadata": {},
     "source": [
      "\u30b9\u30c6\u30df\u30f3\u30b0"
     ]
    },
    {
     "cell_type": "markdown",
     "metadata": {},
     "source": [
      "\u610f\u5473\u7684\u306b\u306f\u540c\u3058\u5358\u8a9e\u306e\u8a9e\u5f62\u5909\u5316\u3092\u30ed\u30d0\u30b9\u30c8\u306b\u540c\u4e00\u3068\u307f\u306a\u3059\u3002  \n",
      "Natural Language Toolkit (NLTK) \u3092\u5229\u7528\u3059\u308b\u3002"
     ]
    },
    {
     "cell_type": "code",
     "collapsed": false,
     "input": [
      "import nltk.stem\n",
      "english_stemmer = nltk.stem.SnowballStemmer('english')\n",
      "class StemmedCountVectorizer(CountVectorizer):\n",
      "    def build_analyzer(self):\n",
      "        analyzer = super(StemmedCountVectorizer, self).build_analyzer()\n",
      "        return lambda doc: (english_stemmer.stem(w) for w in analyzer(doc))\n",
      "vectorizer = StemmedCountVectorizer(min_df=1, stop_words='english')"
     ],
     "language": "python",
     "metadata": {},
     "outputs": [],
     "prompt_number": 52
    },
    {
     "cell_type": "code",
     "collapsed": false,
     "input": [
      "X_train = vectorizer.fit_transform(posts)\n",
      "new_post = \"imaging databases\"\n",
      "new_post_vec = vectorizer.transform([new_post])\n",
      "print(new_post_vec)"
     ],
     "language": "python",
     "metadata": {},
     "outputs": [
      {
       "output_type": "stream",
       "stream": "stdout",
       "text": [
        "  (0, 4)\t1\n",
        "  (0, 5)\t1\n"
       ]
      }
     ],
     "prompt_number": 58
    },
    {
     "cell_type": "code",
     "collapsed": false,
     "input": [
      "import sys\n",
      "best_doc = None\n",
      "best_dist = sys.maxint\n",
      "best_i = None\n",
      "for i in range(0, num_samples):\n",
      "    post = posts[i]\n",
      "    if post == new_post:\n",
      "        continue\n",
      "    post_vec = X_train.getrow(i)\n",
      "    d = dist_norm(post_vec, new_post_vec)\n",
      "    print \"=== Post %i with dist=%.2f: %s\" %(i, d, post)\n",
      "    if d < best_dist:\n",
      "        best_dist = d\n",
      "        best_i = i\n",
      "print(\"Best post is %i with dist=%.2f\"%(best_i, best_dist))"
     ],
     "language": "python",
     "metadata": {},
     "outputs": [
      {
       "output_type": "stream",
       "stream": "stdout",
       "text": [
        "=== Post 0 with dist=1.41: This is a toy post about machine learning. Actually, it contains not much interesting stuff.\n",
        "=== Post 1 with dist=0.86: Imaging databases provide storage capabilities.\n",
        "=== Post 2 with dist=0.63: Most imaging databases save images permanently.\n",
        "\n",
        "=== Post 3 with dist=0.77: Imaging databases store data.\n",
        "=== Post 4 with dist=0.77: Imaging databases store data. Imaging databases store data. Imaging databases store data.\n",
        "Best post is 2 with dist=0.63\n"
       ]
      }
     ],
     "prompt_number": 59
    },
    {
     "cell_type": "markdown",
     "metadata": {},
     "source": [
      "stemming\u3092\u884c\u3046\u3068\u3001images\u3068imaging\u304c\u540c\u4e00\u306b\u6271\u308f\u308c\u308b\u305f\u3081\u3001Post2\u3068\u306e\u8ddd\u96e2\u304c\u7e2e\u307e\u3063\u305f\u3002"
     ]
    },
    {
     "cell_type": "heading",
     "level": 2,
     "metadata": {},
     "source": [
      "\u3042\u306e\u6709\u540d\u306aTF-IDF(term frequency - inverse document frequency)\u3092\u7528\u3044\u308b"
     ]
    },
    {
     "cell_type": "markdown",
     "metadata": {},
     "source": [
      "\u3042\u308b\u5358\u8a9e\u306b\u5bfe\u3057\u3066\u3001\u5bfe\u8c61\u306e\u6587\u66f8\u4e2d\u306b\u51fa\u73fe\u3057\u305f\u56de\u6570\u3092\u30ab\u30a6\u30f3\u30c8\u3059\u308b\u306e\u306b\u52a0\u3048\u3066\u3001\u305d\u306e\u5358\u8a9e\u304c**\u4ed6\u306e\u6587\u66f8**\u3067\u3069\u308c\u304f\u3089\u3044\u51fa\u73fe\u3059\u308b\u304b\u3092\u30ab\u30a6\u30f3\u30c8\u3057\u3066\u3001\u305d\u306e\u56de\u6570\u3067\u5272\u308b\u3002"
     ]
    },
    {
     "cell_type": "markdown",
     "metadata": {},
     "source": [
      "= \u7279\u5b9a\u306e\u6587\u66f8\u3060\u3051\u3067\u73fe\u308c\u3084\u3059\u3044\u5358\u8a9e\u306e\u30ec\u30b9\u30dd\u30f3\u30b9\u3092\u9ad8\u304f\u3059\u308b"
     ]
    },
    {
     "cell_type": "code",
     "collapsed": false,
     "input": [
      "import scipy as sp\n",
      "import math\n",
      "def tfidf(term, doc, docset):\n",
      "    tf = float(doc.count(term))/sum(doc.count(w) for w in set(doc))\n",
      "    idf = math.log(float(len(docset))/(len([doc for doc in docset if term in doc])))\n",
      "    return tf * idf"
     ],
     "language": "python",
     "metadata": {},
     "outputs": [],
     "prompt_number": 66
    },
    {
     "cell_type": "markdown",
     "metadata": {},
     "source": [
      "doc\u306f\u5bfe\u8c61\u306e\u6587\u7ae0\u3002\u5358\u8a9e\u3092\u8907\u6570\u542b\u3080\u3002  \n",
      "docset\u306f\u4ed6\u306e\u6587\u7ae0\u3082\u542b\u3081\u305f\u6587\u7ae0\u306e\u96c6\u5408\u3002  \n",
      "\u4ee5\u4e0b\u306b\u4f8b\u3092\u793a\u3059\u3002"
     ]
    },
    {
     "cell_type": "code",
     "collapsed": false,
     "input": [
      "doc_a, doc_abb, doc_abc = [\"a\"],[\"a\", \"b\", \"b\"],[\"a\",\"b\",\"c\"]"
     ],
     "language": "python",
     "metadata": {},
     "outputs": [],
     "prompt_number": 62
    },
    {
     "cell_type": "code",
     "collapsed": false,
     "input": [
      "D=[doc_a, doc_abb, doc_abc]"
     ],
     "language": "python",
     "metadata": {},
     "outputs": [],
     "prompt_number": 63
    },
    {
     "cell_type": "code",
     "collapsed": false,
     "input": [
      "print(tfidf(\"a\", doc_a, D))"
     ],
     "language": "python",
     "metadata": {},
     "outputs": [
      {
       "output_type": "stream",
       "stream": "stdout",
       "text": [
        "0.0\n"
       ]
      }
     ],
     "prompt_number": 69
    },
    {
     "cell_type": "markdown",
     "metadata": {},
     "source": [
      "dic_a\u306e\u5358\u8a9e\"a\"\u306b\u3064\u3044\u3066tfidf\u306f0\u3002\u3064\u307e\u308a\u305d\u306e\u4ed6\u306e\u6587\u66f8\u306b\u3082\u542b\u307e\u308c\u3066\u3044\u308b\u305f\u3081\u3001\u5206\u985e\u306b\u5f79\u306b\u7acb\u3064\u60c5\u5831\u3067\u306f\u306a\u3044\u3002"
     ]
    },
    {
     "cell_type": "code",
     "collapsed": false,
     "input": [
      "print(tfidf(\"b\", doc_abb, D))"
     ],
     "language": "python",
     "metadata": {},
     "outputs": [
      {
       "output_type": "stream",
       "stream": "stdout",
       "text": [
        "0.270310072072\n"
       ]
      }
     ],
     "prompt_number": 70
    },
    {
     "cell_type": "code",
     "collapsed": false,
     "input": [
      "print(tfidf(\"c\", doc_a, D))"
     ],
     "language": "python",
     "metadata": {},
     "outputs": [
      {
       "output_type": "stream",
       "stream": "stdout",
       "text": [
        "0.0\n"
       ]
      }
     ],
     "prompt_number": 72
    },
    {
     "cell_type": "code",
     "collapsed": false,
     "input": [
      "print(tfidf(\"c\", doc_abc, D))"
     ],
     "language": "python",
     "metadata": {},
     "outputs": [
      {
       "output_type": "stream",
       "stream": "stdout",
       "text": [
        "0.366204096223\n"
       ]
      }
     ],
     "prompt_number": 73
    },
    {
     "cell_type": "markdown",
     "metadata": {},
     "source": [
      "c\u306fdoc_abc\u306b\u3068\u3063\u3066\u3001\u5927\u5909\u91cd\u8981\u3067\u3042\u308b\u3053\u3068\u304c\u308f\u304b\u308b\u3002"
     ]
    },
    {
     "cell_type": "code",
     "collapsed": false,
     "input": [
      "print(tfidf(\"b\", doc_abb, D))"
     ],
     "language": "python",
     "metadata": {},
     "outputs": [
      {
       "output_type": "stream",
       "stream": "stdout",
       "text": [
        "0.270310072072\n"
       ]
      }
     ],
     "prompt_number": 75
    },
    {
     "cell_type": "code",
     "collapsed": false,
     "input": [
      "print(tfidf((\"b\"), doc_abc, D))"
     ],
     "language": "python",
     "metadata": {},
     "outputs": [
      {
       "output_type": "stream",
       "stream": "stdout",
       "text": [
        "0.135155036036\n"
       ]
      }
     ],
     "prompt_number": 77
    },
    {
     "cell_type": "markdown",
     "metadata": {},
     "source": [
      "b\u306fdoc_abb\u306b\u3068\u3063\u3066\u3001doc_abc\u306e2\u500d\u91cd\u8981\u3067\u3042\u308b\u3053\u3068\u304c\u308f\u304b\u308b\u3002b\u306fdoc_abb\u306bdoc_abc\u306e2\u500d\u542b\u307e\u308c\u3044\u308b\u3002"
     ]
    },
    {
     "cell_type": "markdown",
     "metadata": {},
     "source": [
      "SciPy\u306b\u306f\u3001\u4e0a\u8a18\u3088\u308a\u3082\u8907\u96d1\u306a\u3053\u3068\u3092\u8003\u616e\u3057\u305fTF-IDF\u306e\u5b9f\u88c5TfidfVectorizer\u304c\u542b\u307e\u308c\u3066\u3044\u308b\u3002"
     ]
    },
    {
     "cell_type": "code",
     "collapsed": false,
     "input": [
      "from sklearn.feature_extraction.text import TfidfVectorizer\n",
      "class StemmedTfidfVectorizer(TfidfVectorizer):\n",
      "    def build_analyzer(self):\n",
      "        analyzer = super(TfidfVectorizer, self).build_analyzer()\n",
      "        return lambda doc: (\n",
      "            english_stemmer.stem(w) for w in analyzer(doc))\n",
      "vectorizer = StemmedTfidfVectorizer(min_df=1, stop_words='english')"
     ],
     "language": "python",
     "metadata": {},
     "outputs": [],
     "prompt_number": 86
    },
    {
     "cell_type": "markdown",
     "metadata": {},
     "source": [
      "\u3053\u306evectorizer\u3092\u4f7f\u3063\u3066\u3001\u985e\u4f3c\u5ea6\u3092\u7b97\u51fa\u3059\u308b\u3068\u4ee5\u4e0b\u306e\u3088\u3046\u306b\u306a\u308b\u3002"
     ]
    },
    {
     "cell_type": "code",
     "collapsed": false,
     "input": [
      "X_train = vectorizer.fit_transform(posts)"
     ],
     "language": "python",
     "metadata": {},
     "outputs": [],
     "prompt_number": 87
    },
    {
     "cell_type": "code",
     "collapsed": false,
     "input": [
      "X_train.shape"
     ],
     "language": "python",
     "metadata": {},
     "outputs": [
      {
       "metadata": {},
       "output_type": "pyout",
       "prompt_number": 91,
       "text": [
        "(5, 17)"
       ]
      }
     ],
     "prompt_number": 91
    },
    {
     "cell_type": "code",
     "collapsed": false,
     "input": [
      "print X_train"
     ],
     "language": "python",
     "metadata": {},
     "outputs": [
      {
       "output_type": "stream",
       "stream": "stdout",
       "text": [
        "  (0, 16)\t0.353553390593\n",
        "  (0, 15)\t0.353553390593\n",
        "  (0, 10)\t0.353553390593\n",
        "  (0, 8)\t0.353553390593\n",
        "  (0, 7)\t0.353553390593\n",
        "  (0, 6)\t0.353553390593\n",
        "  (0, 2)\t0.353553390593\n",
        "  (0, 0)\t0.353553390593\n",
        "  (1, 13)\t0.524517221085\n",
        "  (1, 11)\t0.524517221085\n",
        "  (1, 5)\t0.295503853068\n",
        "  (1, 4)\t0.295503853068\n",
        "  (1, 1)\t0.524517221085\n",
        "  (2, 12)\t0.528000507961\n",
        "  (2, 9)\t0.528000507961\n",
        "  (2, 5)\t0.594932552269\n",
        "  (2, 4)\t0.297466276134\n",
        "  (3, 14)\t0.579747589583\n",
        "  (3, 5)\t0.4048366737\n",
        "  (3, 4)\t0.4048366737\n",
        "  (3, 3)\t0.579747589583\n",
        "  (4, 14)\t0.579747589583\n",
        "  (4, 5)\t0.4048366737\n",
        "  (4, 4)\t0.4048366737\n",
        "  (4, 3)\t0.579747589583\n"
       ]
      }
     ],
     "prompt_number": 94
    },
    {
     "cell_type": "markdown",
     "metadata": {},
     "source": [
      "[\u6587\u66f8index, \u5358\u8a9eindex]\u3067\u8868\u3055\u308c\u308b\u5404\u8981\u7d20\u306b\u306f\u3001\u51fa\u73fe\u56de\u6570\u3067\u306f\u306a\u304fTF-IDF \u304c\u683c\u7d0d\u3055\u308c\u3066\u3044\u308b\u3002"
     ]
    },
    {
     "cell_type": "code",
     "collapsed": false,
     "input": [
      "new_post = \"imaging databases\"\n",
      "new_post_vec = vectorizer.transform([new_post])\n",
      "print(new_post_vec)"
     ],
     "language": "python",
     "metadata": {},
     "outputs": [
      {
       "output_type": "stream",
       "stream": "stdout",
       "text": [
        "  (0, 5)\t0.707106781187\n",
        "  (0, 4)\t0.707106781187\n"
       ]
      }
     ],
     "prompt_number": 92
    },
    {
     "cell_type": "code",
     "collapsed": false,
     "input": [
      "import sys\n",
      "best_doc = None\n",
      "best_dist = sys.maxint\n",
      "best_i = None\n",
      "for i in range(0, num_samples):\n",
      "    post = posts[i]\n",
      "    if post == new_post:\n",
      "        continue\n",
      "    post_vec = X_train.getrow(i)\n",
      "    d = dist_norm(post_vec, new_post_vec)\n",
      "    print \"=== Post %i with dist=%.2f: %s\" %(i, d, post)\n",
      "    if d < best_dist:\n",
      "        best_dist = d\n",
      "        best_i = i\n",
      "print(\"Best post is %i with dist=%.2f\"%(best_i, best_dist))"
     ],
     "language": "python",
     "metadata": {},
     "outputs": [
      {
       "output_type": "stream",
       "stream": "stdout",
       "text": [
        "=== Post 0 with dist=1.41: This is a toy post about machine learning. Actually, it contains not much interesting stuff.\n",
        "=== Post 1 with dist=1.08: Imaging databases provide storage capabilities.\n",
        "=== Post 2 with dist=0.86: Most imaging databases save images permanently.\n",
        "\n",
        "=== Post 3 with dist=0.92: Imaging databases store data.\n",
        "=== Post 4 with dist=0.92: Imaging databases store data. Imaging databases store data. Imaging databases store data.\n",
        "Best post is 2 with dist=0.86\n"
       ]
      }
     ],
     "prompt_number": 93
    },
    {
     "cell_type": "heading",
     "level": 3,
     "metadata": {},
     "source": [
      "bug of words\u306e\u6b20\u70b9"
     ]
    },
    {
     "cell_type": "markdown",
     "metadata": {},
     "source": [
      "- \u5358\u8a9e\u306e\u95a2\u9023\u6027\u3001\u30b3\u30f3\u30c6\u30ad\u30b9\u30c8\u3092\u8003\u616e\u3057\u3066\u3044\u306a\u3044\n",
      "- \u5426\u5b9a\u7684\u306a\u610f\u5473\u3092\u6b63\u3057\u304f\u6349\u3048\u3089\u308c\u306a\u3044\uff1a\u30e6\u30cb\u30b0\u30e9\u30e0\u3067\u306f\u306a\u304f\u3001\u30d0\u30a4\u30b0\u30e9\u30e0\u3084\u30c8\u30ea\u30b0\u30e9\u30e0\u30921\u3064\u306e\u307e\u3068\u307e\u308a\u3068\u3057\u3066\u30ab\u30a6\u30f3\u30c8\u3059\u308b\u3068\u826f\u3044\n",
      "- \u30bf\u30a4\u30d7\u30df\u30b9\u306b\u5bfe\u5fdc\u3067\u304d\u306a\u3044"
     ]
    },
    {
     "cell_type": "heading",
     "level": 2,
     "metadata": {},
     "source": [
      "\u30af\u30e9\u30b9\u30bf\u30ea\u30f3\u30b0"
     ]
    },
    {
     "cell_type": "markdown",
     "metadata": {},
     "source": [
      "\u30af\u30e9\u30b9\u30bf\u30ea\u30f3\u30b0\u306b\u306f\u6587\u66f8\u306e\u5185\u5bb9\u3092\u9069\u5207\u306b\u8868\u73fe\u3057\u305f\u7279\u5fb4\u30d9\u30af\u30c8\u30eb\u304c\u5fc5\u8981\u3067\u3042\u308a\u3001\u3053\u3053\u3067\u306fbug of words\u8868\u73fe\u3092\u7528\u3044\u308b\u3002"
     ]
    },
    {
     "cell_type": "heading",
     "level": 3,
     "metadata": {},
     "source": [
      "\u30af\u30e9\u30b9\u30bf\u30ea\u30f3\u30b0\u306e\u7a2e\u985e"
     ]
    },
    {
     "cell_type": "markdown",
     "metadata": {},
     "source": [
      "- flat clustering\uff1a\u30af\u30e9\u30b9\u30bf\u306e\u6570\u3092\u6307\u5b9a\u3001\u985e\u4f3c\u6027\u306e\u9ad8\u3044\u30c7\u30fc\u30bf\u304c\u30b0\u30eb\u30fc\u30d4\u30f3\u30b0\u3055\u308c\u308b\n",
      "- hierarchical clustering\uff1a\u30af\u30e9\u30b9\u30bf\u306e\u6570\u3092\u6307\u5b9a\u3057\u306a\u3044\u307b\u3046\u304c\u8a08\u7b97\u52b9\u7387\u304c\u826f\u3044\u3001\u30af\u30e9\u30b9\u30bf\u540c\u58eb\u306e\u985e\u4f3c\u95a2\u4fc2\u306b\u3088\u3063\u3066\u968e\u5c64\u69cb\u9020\u3092\u4f5c\u6210\u3059\u308b"
     ]
    },
    {
     "cell_type": "markdown",
     "metadata": {},
     "source": [
      "SciKIt\u3067\u306f\u6570\u591a\u304f\u306e\u30af\u30e9\u30b9\u30bf\u30ea\u30f3\u30b0\u306e\u624b\u6cd5\u3092\u63d0\u4f9b\u3057\u3066\u3044\u308b\u3002"
     ]
    },
    {
     "cell_type": "heading",
     "level": 3,
     "metadata": {},
     "source": [
      "KMeans"
     ]
    },
    {
     "cell_type": "markdown",
     "metadata": {},
     "source": [
      "\u3053\u3053\u3067\u7528\u3044\u308b\u6700\u3082\u3072\u308d\u304f\u4f7f\u308f\u308c\u3066\u3044\u308b\u3067\u3042\u308d\u3046\u30af\u30e9\u30b9\u30bf\u30ea\u30f3\u30b0\u624b\u6cd5\u3002\u521d\u671f\u5024\u306e\u53d6\u308a\u65b9\u306b\u4f9d\u5b58\u3057\u3066\u5931\u6557\u3059\u308b\u5834\u5408\u304c\u3042\u308b\u3053\u3068\u3092\u8003\u616e\u3057\u305f\u30a2\u30eb\u30b4\u30ea\u30ba\u30e0\u3082\u3042\u308b\u3002"
     ]
    },
    {
     "cell_type": "heading",
     "level": 4,
     "metadata": {},
     "source": [
      "\u30af\u30e9\u30b9\u30bf\u30ea\u30f3\u30b0\u306e\u5b9f\u65bd"
     ]
    },
    {
     "cell_type": "markdown",
     "metadata": {},
     "source": [
      "KMeans\u30e9\u30a4\u30d6\u30e9\u30ea\u3092import\u3057\u305f\u3089\u3001\u30af\u30e9\u30b9\u30bf\u4e2d\u5fc3\u306e\u521d\u671f\u5024\u3092\u6c7a\u5b9a\u3059\u308b\u305f\u3081\u306erandam seed\u3092\u751f\u6210\u3059\u308b\u3002  \n",
      "\u30af\u30e9\u30b9\u30bf\u306e\u6570\u30923\u3064\u3068\u3057\u3001clustering\u3092\u53ef\u8996\u5316\u3059\u308b\u305f\u3081\u306eplot_clustering\u3092\u4f5c\u6210\u3059\u308b\u3002"
     ]
    },
    {
     "cell_type": "code",
     "collapsed": false,
     "input": [
      "import os\n",
      "import scipy as sp\n",
      "from scipy.stats import norm\n",
      "from matplotlib import pylab\n",
      "from sklearn.cluster import KMeans\n",
      "seed = 2\n",
      "sp.random.seed(seed)  # to reproduce the data later on\n",
      "\n",
      "num_clusters = 3\n",
      "def plot_clustering(x, y, title, mx=None, ymax=None, xmin=None, km=None):\n",
      "    pylab.figure(num=None, figsize=(8, 6))\n",
      "    if km:\n",
      "        pylab.scatter(x, y, s=50, c=km.predict(list(zip(x, y))))\n",
      "    else:\n",
      "        pylab.scatter(x, y, s=50)\n",
      "\n",
      "    pylab.title(title)\n",
      "    pylab.xlabel(\"Occurrence word 1\")\n",
      "    pylab.ylabel(\"Occurrence word 2\")\n",
      "\n",
      "    pylab.autoscale(tight=True)\n",
      "    pylab.ylim(ymin=0, ymax=1)\n",
      "    pylab.xlim(xmin=0, xmax=1)\n",
      "    pylab.grid(True, linestyle='-', color='0.75')\n",
      "\n",
      "    return pylab"
     ],
     "language": "python",
     "metadata": {},
     "outputs": [],
     "prompt_number": 24
    },
    {
     "cell_type": "markdown",
     "metadata": {},
     "source": [
      "\u6b63\u898f\u5206\u5e03\u306b\u5f93\u3063\u305f\u4e71\u6570\u3092\u751f\u6210\u3059\u308b\u3002"
     ]
    },
    {
     "cell_type": "code",
     "collapsed": false,
     "input": [
      "xw1 = norm(loc=0.3, scale=.15).rvs(20)\n",
      "yw1 = norm(loc=0.3, scale=.15).rvs(20)\n",
      "\n",
      "xw2 = norm(loc=0.7, scale=.15).rvs(20)\n",
      "yw2 = norm(loc=0.7, scale=.15).rvs(20)\n",
      "\n",
      "xw3 = norm(loc=0.2, scale=.15).rvs(20)\n",
      "yw3 = norm(loc=0.8, scale=.15).rvs(20)"
     ],
     "language": "python",
     "metadata": {},
     "outputs": [],
     "prompt_number": 2
    },
    {
     "cell_type": "code",
     "collapsed": false,
     "input": [
      "print xw1"
     ],
     "language": "python",
     "metadata": {},
     "outputs": [
      {
       "output_type": "stream",
       "stream": "stdout",
       "text": [
        "[ 0.23748632  0.29155998 -0.02042941  0.54604062  0.03098466  0.1737379\n",
        "  0.37543221  0.11320679  0.14130717  0.16364886  0.38271811  0.6438312\n",
        "  0.30623091  0.13231118  0.38085875  0.21057605  0.29713043  0.47625018\n",
        "  0.18781936  0.30135379]\n"
       ]
      }
     ],
     "prompt_number": 3
    },
    {
     "cell_type": "code",
     "collapsed": false,
     "input": [
      "print yw1"
     ],
     "language": "python",
     "metadata": {},
     "outputs": [
      {
       "output_type": "stream",
       "stream": "stdout",
       "text": [
        "[ 0.16828382  0.27653487  0.33848557  0.15168314  0.24917671  0.2645724\n",
        "  0.20435175  0.12185816  0.08681742  0.27697572  0.25964146  0.63470502\n",
        " -0.06521514  0.31690898  0.35556668  0.50394508  0.37527858  0.17336794\n",
        "  0.30000146  0.38135289]\n"
       ]
      }
     ],
     "prompt_number": 4
    },
    {
     "cell_type": "markdown",
     "metadata": {},
     "source": [
      "2\u3064\u306e\u5358\u8a9e\u3060\u3051\u304b\u3089\u306a\u308b\u6587\u66f8\u306e\u7279\u5fb4\u30d9\u30af\u30c8\u30eb\u3092\u30013\u3064\u306e\u6b63\u898f\u5206\u5e03\u30e2\u30c7\u30eb\u306b\u5f93\u3063\u305f\u4e71\u6570\u3092\u4f7f\u3063\u3066\u64ec\u4f3c\u7684\u306b\u751f\u6210\u3057\u305f\u3002"
     ]
    },
    {
     "cell_type": "code",
     "collapsed": false,
     "input": [
      "x = sp.append(sp.append(xw1, xw2), xw3)\n",
      "y = sp.append(sp.append(yw1, yw2), yw3)"
     ],
     "language": "python",
     "metadata": {},
     "outputs": [],
     "prompt_number": 5
    },
    {
     "cell_type": "markdown",
     "metadata": {},
     "source": [
      "\u30d9\u30af\u30c8\u30eb\u3092\u7d50\u5408\u3059\u308b"
     ]
    },
    {
     "cell_type": "code",
     "collapsed": false,
     "input": [
      "print x"
     ],
     "language": "python",
     "metadata": {},
     "outputs": [
      {
       "output_type": "stream",
       "stream": "stdout",
       "text": [
        "[ 0.23748632  0.29155998 -0.02042941  0.54604062  0.03098466  0.1737379\n",
        "  0.37543221  0.11320679  0.14130717  0.16364886  0.38271811  0.6438312\n",
        "  0.30623091  0.13231118  0.38085875  0.21057605  0.29713043  0.47625018\n",
        "  0.18781936  0.30135379  0.65297377  0.81565176  0.4197864   0.9596777\n",
        "  0.9201517   0.6496484   0.79170112  0.70719559  0.57562971  0.71315653\n",
        "  0.85005488  0.64283612  0.64364959  0.68882939  0.76502445  0.89175688\n",
        "  0.6047981   0.77625944  0.7324174   0.42120814  0.17157961  0.1884172\n",
        "  0.32370545  0.38723194  0.13941616 -0.0076778   0.40508531  0.38268284\n",
        "  0.1306992   0.25263327  0.25727994  0.28494132  0.2306312   0.41100444\n",
        " -0.06069393  0.35612359  0.2570708   0.16742971  0.37602972 -0.15154048]\n"
       ]
      }
     ],
     "prompt_number": 6
    },
    {
     "cell_type": "code",
     "collapsed": false,
     "input": [
      "print y"
     ],
     "language": "python",
     "metadata": {},
     "outputs": [
      {
       "output_type": "stream",
       "stream": "stdout",
       "text": [
        "[ 0.16828382  0.27653487  0.33848557  0.15168314  0.24917671  0.2645724\n",
        "  0.20435175  0.12185816  0.08681742  0.27697572  0.25964146  0.63470502\n",
        " -0.06521514  0.31690898  0.35556668  0.50394508  0.37527858  0.17336794\n",
        "  0.30000146  0.38135289  0.63710253  0.68015067  0.69406446  0.74890052\n",
        "  0.39395154  0.70693833  0.59834866  0.48408415  0.77864446  0.81029194\n",
        "  0.60201246  0.82636844  0.64277253  0.70997335  0.53518916  0.93767306\n",
        "  0.30108258  0.68628211  0.80426794  0.39498002  0.97422822  0.85791171\n",
        "  0.63003001  0.86496388  0.75438703  1.18779423  1.07529991  0.86610348\n",
        "  0.69211192  0.71248781  0.75124256  0.71596482  0.66466309  0.71135416\n",
        "  0.75857308  0.72246742  0.69521151  0.66066621  1.18256574  0.57902401]\n"
       ]
      }
     ],
     "prompt_number": 7
    },
    {
     "cell_type": "markdown",
     "metadata": {},
     "source": [
      "IPython Notebook\u3067\u63cf\u753b\u51fa\u6765\u308b\u3088\u3046\u306b pyplot \u3092import \u3057\u3001pylab inlune\u3092\u8a18\u8ff0\u3002"
     ]
    },
    {
     "cell_type": "code",
     "collapsed": false,
     "input": [
      "import matplotlib.pyplot as plt\n",
      "%pylab inline"
     ],
     "language": "python",
     "metadata": {},
     "outputs": [
      {
       "output_type": "stream",
       "stream": "stdout",
       "text": [
        "Populating the interactive namespace from numpy and matplotlib\n"
       ]
      }
     ],
     "prompt_number": 17
    },
    {
     "cell_type": "code",
     "collapsed": false,
     "input": [
      "i = 1\n",
      "plot_clustering(x, y, \"Vectors\")"
     ],
     "language": "python",
     "metadata": {},
     "outputs": [
      {
       "metadata": {},
       "output_type": "pyout",
       "prompt_number": 18,
       "text": [
        "<module 'matplotlib.pylab' from '/Users/masai/.pyenv/versions/anaconda-2.0.1/lib/python2.7/site-packages/matplotlib/pylab.pyc'>"
       ]
      },
      {
       "metadata": {},
       "output_type": "display_data",
       "png": "[encoded data removed]",
       "text": [
        "<matplotlib.figure.Figure at 0x10a87fd50>"
       ]
      }
     ],
     "prompt_number": 18
    },
    {
     "cell_type": "code",
     "collapsed": false,
     "input": [
      "i += 1\n",
      "\n",
      "# 1 iteration ####################\n",
      "\n",
      "mx, my = sp.meshgrid(sp.arange(0, 1, 0.001), sp.arange(0, 1, 0.001))\n",
      "\n",
      "km = KMeans(init='random', n_clusters=num_clusters, verbose=1,\n",
      "            n_init=1, max_iter=1,\n",
      "            random_state=seed)\n",
      "km.fit(sp.array(list(zip(x, y))))\n",
      "plot_clustering(x, y, \"Clustering iteration 1\", km=km)\n",
      "c1a, c1b, c1c = km.cluster_centers_\n",
      "pylab.scatter(km.cluster_centers_[:, 0], km.cluster_centers_[:, 1],\n",
      "              marker='x', linewidth=2, s=100, color='black')"
     ],
     "language": "python",
     "metadata": {},
     "outputs": [
      {
       "output_type": "stream",
       "stream": "stdout",
       "text": [
        "Initialization complete\n",
        "Iteration  0, inertia 4.749\n"
       ]
      },
      {
       "metadata": {},
       "output_type": "pyout",
       "prompt_number": 30,
       "text": [
        "<matplotlib.collections.PathCollection at 0x10c799e50>"
       ]
      },
      {
       "metadata": {},
       "output_type": "display_data",
       "png": "[encoded data removed]",
       "text": [
        "<matplotlib.figure.Figure at 0x1087c03d0>"
       ]
      }
     ],
     "prompt_number": 30
    },
    {
     "cell_type": "code",
     "collapsed": false,
     "input": [
      "i += 1\n",
      "\n",
      "# 2 iterations ####################\n",
      "km = KMeans(init='random', n_clusters=num_clusters, verbose=1,\n",
      "            n_init=1, max_iter=2,\n",
      "            random_state=seed)\n",
      "km.fit(sp.array(list(zip(x, y))))\n",
      "\n",
      "Z = km.predict(sp.c_[mx.ravel(), my.ravel()]).reshape(mx.shape)\n",
      "\n",
      "plot_clustering(x, y, \"Clustering iteration 2\", km=km)\n",
      "c2a, c2b, c2c = km.cluster_centers_\n",
      "pylab.scatter(km.cluster_centers_[:, 0], km.cluster_centers_[:, 1],\n",
      "              marker='x', linewidth=2, s=100, color='black')\n",
      "pylab.gca().add_patch(\n",
      "    pylab.Arrow(c1a[0], c1a[1], c2a[0] - c1a[0], c2a[1] - c1a[1], width=0.1))\n",
      "pylab.gca().add_patch(\n",
      "    pylab.Arrow(c1b[0], c1b[1], c2b[0] - c1b[0], c2b[1] - c1b[1], width=0.1))\n",
      "pylab.gca().add_patch(\n",
      "    pylab.Arrow(c1c[0], c1c[1], c2c[0] - c1c[0], c2c[1] - c1c[1], width=0.1))"
     ],
     "language": "python",
     "metadata": {},
     "outputs": [
      {
       "output_type": "stream",
       "stream": "stdout",
       "text": [
        "Initialization complete\n",
        "Iteration  0, inertia 4.749\n",
        "Iteration  1, inertia 3.379\n"
       ]
      },
      {
       "metadata": {},
       "output_type": "pyout",
       "prompt_number": 33,
       "text": [
        "<matplotlib.patches.Arrow at 0x1141f6650>"
       ]
      },
      {
       "metadata": {},
       "output_type": "display_data",
       "png": "[encoded data removed]",
       "text": [
        "<matplotlib.figure.Figure at 0x113c2a890>"
       ]
      }
     ],
     "prompt_number": 33
    },
    {
     "cell_type": "code",
     "collapsed": false,
     "input": [
      "i += 1\n",
      "\n",
      "# 3 iterations ####################\n",
      "km = KMeans(init='random', n_clusters=num_clusters, verbose=1,\n",
      "            n_init=1, max_iter=10,\n",
      "            random_state=seed)\n",
      "km.fit(sp.array(list(zip(x, y))))\n",
      "\n",
      "Z = km.predict(sp.c_[mx.ravel(), my.ravel()]).reshape(mx.shape)\n",
      "\n",
      "plot_clustering(x, y, \"Clustering iteration 10\", km=km)\n",
      "pylab.scatter(km.cluster_centers_[:, 0], km.cluster_centers_[:, 1],\n",
      "              marker='x', linewidth=2, s=100, color='black')"
     ],
     "language": "python",
     "metadata": {},
     "outputs": [
      {
       "output_type": "stream",
       "stream": "stdout",
       "text": [
        "Initialization complete\n",
        "Iteration  0, inertia 4.749\n",
        "Iteration  1, inertia 3.379\n",
        "Iteration  2, inertia 2.600\n",
        "Iteration  3, inertia 2.497\n",
        "Iteration  4, inertia 2.447\n",
        "Converged at iteration 4\n"
       ]
      },
      {
       "metadata": {},
       "output_type": "pyout",
       "prompt_number": 35,
       "text": [
        "<matplotlib.collections.PathCollection at 0x10274e310>"
       ]
      },
      {
       "metadata": {},
       "output_type": "display_data",
       "png": "[encoded data removed]",
       "text": [
        "<matplotlib.figure.Figure at 0x113ba2f10>"
       ]
      }
     ],
     "prompt_number": 35
    },
    {
     "cell_type": "heading",
     "level": 3,
     "metadata": {},
     "source": [
      "validation\u30c7\u30fc\u30bf\u3092\u7528\u3044\u305f\u8a55\u4fa1"
     ]
    },
    {
     "cell_type": "heading",
     "level": 5,
     "metadata": {},
     "source": [
      "validation\u30c7\u30fc\u30bf 20Newsgroups DataSet"
     ]
    },
    {
     "cell_type": "markdown",
     "metadata": {},
     "source": [
      "http://qwone.com/~jason/20Newsgroups/ \u304b\u3089\u30c0\u30a6\u30f3\u30ed\u30fc\u30c9\u3057\u3066\u3082\u826f\u3044\u304c\u3001scikit\u306efetch_20newsgroups()\u3067\u4ee3\u308f\u308a\u306b\u30c7\u30fc\u30bf\u3092\u30ed\u30fc\u30c9\u3059\u308b\u3053\u3068\u304c\u3067\u304d\u308b\u3002"
     ]
    },
    {
     "cell_type": "markdown",
     "metadata": {},
     "source": [
      "\u5fc5\u8981\u306a\u30c7\u30fc\u30bf\u3068scipy\u3092import"
     ]
    },
    {
     "cell_type": "code",
     "collapsed": false,
     "input": [
      "import sklearn.datasets\n",
      "import scipy as sp"
     ],
     "language": "python",
     "metadata": {},
     "outputs": [],
     "prompt_number": 111
    },
    {
     "cell_type": "markdown",
     "metadata": {},
     "source": [
      "\u30af\u30a8\u30ea\u7528\u306e\u6587\u66f8\u3092\u5b9a\u7fa9"
     ]
    },
    {
     "cell_type": "code",
     "collapsed": false,
     "input": [
      "new_post = \\\n",
      "    \"\"\"Disk drive problems. Hi, I have a problem with my hard disk.\n",
      "After 1 year it is working only sporadically now.\n",
      "I tried to format it, but now it doesn't boot any more.\n",
      "Any ideas? Thanks.\n",
      "\"\"\""
     ],
     "language": "python",
     "metadata": {},
     "outputs": [],
     "prompt_number": 113
    },
    {
     "cell_type": "markdown",
     "metadata": {},
     "source": [
      "20newsgroups\u30c7\u30fc\u30bf\u30fb\u30bb\u30c3\u30c8\u3092\u30ed\u30fc\u30c9"
     ]
    },
    {
     "cell_type": "code",
     "collapsed": false,
     "input": [
      "all_data = sklearn.datasets.fetch_20newsgroups(subset=\"all\")\n",
      "print(\"Number of total posts: %i\" % len(all_data.filenames))"
     ],
     "language": "python",
     "metadata": {},
     "outputs": [
      {
       "output_type": "stream",
       "stream": "stdout",
       "text": [
        "Number of total posts: 18846\n"
       ]
      }
     ],
     "prompt_number": 114
    },
    {
     "cell_type": "markdown",
     "metadata": {},
     "source": [
      "categoty\u3092\u6307\u5b9a\u3057\u3066train\u30c7\u30fc\u30bf\u3092\u53d6\u5f97"
     ]
    },
    {
     "cell_type": "code",
     "collapsed": false,
     "input": [
      "groups = [\n",
      "    'comp.graphics', 'comp.os.ms-windows.misc', 'comp.sys.ibm.pc.hardware',\n",
      "    'comp.sys.mac.hardware', 'comp.windows.x', 'sci.space']\n",
      "train_data = sklearn.datasets.fetch_20newsgroups(subset=\"train\",\n",
      "                                                 categories=groups)\n",
      "print(\"Number of training posts in tech groups:\", len(train_data.filenames))"
     ],
     "language": "python",
     "metadata": {},
     "outputs": [
      {
       "output_type": "stream",
       "stream": "stdout",
       "text": [
        "('Number of training posts in tech groups:', 3529)\n"
       ]
      }
     ],
     "prompt_number": 115
    },
    {
     "cell_type": "code",
     "collapsed": false,
     "input": [
      "labels = train_data.target\n",
      "num_clusters=50"
     ],
     "language": "python",
     "metadata": {},
     "outputs": [],
     "prompt_number": 116
    },
    {
     "cell_type": "code",
     "collapsed": false,
     "input": [
      "import nltk.stem"
     ],
     "language": "python",
     "metadata": {},
     "outputs": [],
     "prompt_number": 48
    },
    {
     "cell_type": "code",
     "collapsed": false,
     "input": [
      "english_stemmer = nltk.stem.SnowballStemmer('english')"
     ],
     "language": "python",
     "metadata": {},
     "outputs": [],
     "prompt_number": 49
    },
    {
     "cell_type": "markdown",
     "metadata": {},
     "source": [
      "vectorizer\u3092\u5b9a\u7fa9\u3057\u3066\u3001train_data\u304b\u3089\u7279\u5fb4\u91cf\u3092\u3064\u304f\u308b"
     ]
    },
    {
     "cell_type": "code",
     "collapsed": false,
     "input": [
      "from sklearn.feature_extraction.text import TfidfVectorizer\n",
      "class StemmedTfidfVectorizer(TfidfVectorizer):\n",
      "\n",
      "    def build_analyzer(self):\n",
      "        analyzer = super(TfidfVectorizer, self).build_analyzer()\n",
      "        return lambda doc: (english_stemmer.stem(w) for w in analyzer(doc))\n",
      "\n",
      "vectorizer = StemmedTfidfVectorizer(min_df=10, max_df=0.5,\n",
      "                                    stop_words='english', decode_error='ignore'\n",
      "                                    )\n",
      "vectorized = vectorizer.fit_transform(train_data.data)"
     ],
     "language": "python",
     "metadata": {},
     "outputs": [],
     "prompt_number": 52
    },
    {
     "cell_type": "code",
     "collapsed": false,
     "input": [
      "num_samples, num_features = vectorized.shape\n",
      "print(\"#samples: %d, #features: %d\" % (num_samples, num_features))"
     ],
     "language": "python",
     "metadata": {},
     "outputs": [
      {
       "output_type": "stream",
       "stream": "stdout",
       "text": [
        "#samples: 3529, #features: 4712\n"
       ]
      }
     ],
     "prompt_number": 58
    },
    {
     "cell_type": "markdown",
     "metadata": {},
     "source": [
      "KMeans\u3067\u30af\u30e9\u30b9\u30bf\u30ea\u30f3\u30b0"
     ]
    },
    {
     "cell_type": "code",
     "collapsed": false,
     "input": [
      "from sklearn.cluster import KMeans"
     ],
     "language": "python",
     "metadata": {},
     "outputs": [],
     "prompt_number": 59
    },
    {
     "cell_type": "code",
     "collapsed": false,
     "input": [
      "km = KMeans(n_clusters=num_clusters, n_init=1, verbose=1, random_state=3)\n",
      "clustered = km.fit(vectorized)\n",
      "print(\"km.labels=%s\" % km.labels_)"
     ],
     "language": "python",
     "metadata": {},
     "outputs": [
      {
       "output_type": "stream",
       "stream": "stdout",
       "text": [
        "Initialization complete\n",
        "Iteration  0, inertia 5686.053\n",
        "Iteration  1, inertia 3164.888"
       ]
      },
      {
       "output_type": "stream",
       "stream": "stdout",
       "text": [
        "\n",
        "Iteration  2, inertia 3132.208\n",
        "Iteration  3, inertia 3111.713"
       ]
      },
      {
       "output_type": "stream",
       "stream": "stdout",
       "text": [
        "\n",
        "Iteration  4, inertia 3098.584\n",
        "Iteration  5, inertia 3092.191"
       ]
      },
      {
       "output_type": "stream",
       "stream": "stdout",
       "text": [
        "\n",
        "Iteration  6, inertia 3087.277\n",
        "Iteration  7, inertia 3084.100"
       ]
      },
      {
       "output_type": "stream",
       "stream": "stdout",
       "text": [
        "\n",
        "Iteration  8, inertia 3082.800\n",
        "Iteration  9, inertia 3082.234"
       ]
      },
      {
       "output_type": "stream",
       "stream": "stdout",
       "text": [
        "\n",
        "Iteration 10, inertia 3081.949\n",
        "Iteration 11, inertia 3081.843"
       ]
      },
      {
       "output_type": "stream",
       "stream": "stdout",
       "text": [
        "\n",
        "Iteration 12, inertia 3081.791\n",
        "Iteration 13, inertia 3081.752"
       ]
      },
      {
       "output_type": "stream",
       "stream": "stdout",
       "text": [
        "\n",
        "Iteration 14, inertia 3081.660\n",
        "Iteration 15, inertia 3081.617"
       ]
      },
      {
       "output_type": "stream",
       "stream": "stdout",
       "text": [
        "\n",
        "Iteration 16, inertia 3081.589\n",
        "Iteration 17, inertia 3081.571"
       ]
      },
      {
       "output_type": "stream",
       "stream": "stdout",
       "text": [
        "\n",
        "Converged at iteration 17\n",
        "km.labels=[48 23 31 ...,  6  2 22]\n"
       ]
      }
     ],
     "prompt_number": 60
    },
    {
     "cell_type": "code",
     "collapsed": false,
     "input": [
      "print(\"km.labels_.shape=%s\" % km.labels_.shape)"
     ],
     "language": "python",
     "metadata": {},
     "outputs": [
      {
       "output_type": "stream",
       "stream": "stdout",
       "text": [
        "km.labels_.shape=3529\n"
       ]
      }
     ],
     "prompt_number": 62
    },
    {
     "cell_type": "markdown",
     "metadata": {},
     "source": [
      "\u30af\u30e9\u30b9\u30bf\u30ea\u30f3\u30b0\u306e\u8a55\u4fa1\u3092\u884c\u3046\u3053\u3068\u304c\u3067\u304d\u308b\u30d1\u30c3\u30b1\u30fc\u30b8 metrics \u3092\u30a4\u30f3\u30dd\u30fc\u30c8\u3059\u308b\u3002  \n",
      "\u30af\u30e9\u30b9\u30bf\u30ea\u30f3\u30b0\u624b\u6cd5\u3092\u5909\u66f4\u3057\u305f\u5834\u5408\u3001\u4ee5\u4e0b\u306e\u6570\u5024\u3092\u78ba\u8a8d\u3059\u308b\u3068\u826f\u3044\u3002"
     ]
    },
    {
     "cell_type": "code",
     "collapsed": false,
     "input": [
      "from sklearn import metrics\n",
      "# Homogeneity \u306f\uff0c\u6bd4\u8f03\u5bfe\u8c61\u3068\u306a\u308b\u30af\u30e9\u30b9\u30bf\u30ea\u30f3\u30b0\u7d50\u679c\u306b\u304a\u3051\u308b\u3042\u308b\u30af\u30e9\u30b9\u30bf\u304c\uff0c\n",
      "# \u3082\u3046\u7247\u65b9\u306e\u6b63\u89e3\u3068\u306a\u308b\u30af\u30e9\u30b9\u30bf\u30ea\u30f3\u30b0\u7d50\u679c\u306b\u304a\u3051\u308b\u3042\u308b\u30af\u30e9\u30b9\u30bf\u306b\u5c5e\u3059\u308b\u8981\u7d20\u306e\u307f\u3092\u542b\u3093\u3067\u3044\u308b\u304b\u3069\u3046\u304b\u306e\u6307\u6a19\n",
      "print(\"Homogeneity: %0.3f\" % metrics.homogeneity_score(labels, km.labels_))\n",
      "# Completeness \u306f\u3042\u308b\u30af\u30e9\u30b9\u30bf\u30ea\u30f3\u30b0\u7d50\u679c\u306b\u304a\u3051\u308b\u3042\u308b\u30af\u30e9\u30b9\u30bf\u306e\u8981\u7d20\u5168\u3066\u304c\uff0c\u6bd4\u8f03\u5bfe\u8c61\u3068\u306a\u308b\u30af\u30e9\u30b9\u30bf\u30ea\u30f3\u30b0\u7d50\u679c\n",
      "# \u306b\u304a\u3044\u3066\u540c\u3058\u30af\u30e9\u30b9\u30bf\u306b\u5c5e\u3057\u3066\u3044\u308b\u304b\u3069\u3046\u304b(\u540c\u3058\u8a9e\u7fa9\u3092\u3082\u3064\u8981\u7d20\u304c1\u3064\u306e\u30af\u30e9\u30b9\u30bf\u306b\u3069\u308c\u3060\u3051\u307e\u3068\u3081\u3089\u308c\u3066\u3044\u308b\u304b)\n",
      "print(\"Completeness: %0.3f\" % metrics.completeness_score(labels, km.labels_))\n",
      "# Homogeneity\u3068Completeness\u306f1 \u3064\u306e\u30af\u30e9\u30b9\u30bf\u306b\u5c5e\u3059\u3079\u304d\u8981\u7d20\u7fa4\u304c\u3069\u306e\u7a0b\u5ea6\u540c\u3058\u30af\u30e9\u30b9\u30bf\u306b\u5206\u985e\u3055\u308c\u3084\u3059\u3044\u304b\u3092\u691c\u8a3c\u3057\u3084\u3059\u3044\n",
      "\n",
      "# V-measure\u306fHomogeneity\u3068Completness\u306e\u8abf\u548c\u5e73\u5747\n",
      "print(\"V-measure: %0.3f\" % metrics.v_measure_score(labels, km.labels_))"
     ],
     "language": "python",
     "metadata": {},
     "outputs": [
      {
       "output_type": "stream",
       "stream": "stdout",
       "text": [
        "Homogeneity: 0.445\n",
        "Completeness: 0.231\n",
        "V-measure: 0.304\n"
       ]
      }
     ],
     "prompt_number": 70
    },
    {
     "cell_type": "markdown",
     "metadata": {},
     "source": [
      "\u4ed6\u306e\u8a55\u4fa1\u6307\u6a19\u3082\u3001metrics\u306a\u3089\u7c21\u5358\u306b\u51fa\u529b\u304c\u53ef\u80fd\u3002"
     ]
    },
    {
     "cell_type": "code",
     "collapsed": false,
     "input": [
      "# Adjusted Rand Index\n",
      "# \u8abf\u6574Rand\u6307\u6a19\u30022\u3064\u306e\u30af\u30e9\u30b9\u30bf\u9593\u3067\u5206\u3051\u65b9\u306e\u985e\u4f3c\u5ea6\u3092\u793a\u3059\u6307\u6a19\u3002\u76f8\u95a2\u304c\u306a\u3044\u5834\u5408\u306b0\u3068\u306a\u308b\u3088\u3046\u306bAdjust\u3057\u305f\u3082\u306e\u3002\n",
      "print(\"Adjusted Rand Index: %0.3f\" % metrics.adjusted_rand_score(labels, km.labels_))\n",
      "\n",
      "# Adjusted Mutual Information\n",
      "# Mutual Information\u306f\u76f8\u4e92\u60c5\u5831\u91cf\u3068\u3088\u3070\u308c\u308b\u3002\u6587\u7ae0\u306b\u30ab\u30c6\u30b4\u30ea\u304c\u4e0e\u3048\u3089\u308c\u3066\u3044\u308b\u5834\u5408\u3001\u5358\u8a9e\u3068\u30ab\u30c6\u30b4\u30ea\u306e\u76f8\u95a2\u6027\u306e\u5f37\u3055\u3092\u6570\u5024\u5316\u3057\u3066\u3082\u306e\u3067\u3042\u308b\u3002\n",
      "print(\"Adjusted Mutual Information: %0.3f\" % metrics.adjusted_mutual_info_score(labels, km.labels_))\n",
      "\n",
      "# Silihouette Coefficient(\u30b7\u30eb\u30a8\u30c3\u30c8\u4fc2\u6570)\n",
      "# \u3042\u308b\u30af\u30e9\u30b9\u30bf\u306b\u3064\u3044\u3066\u3001\u30af\u30e9\u30b9\u30bf\u306b\u542b\u307e\u308c\u308b\u8981\u7d20\u306e\u51dd\u96c6\u6027\u3068\u4ed6\u306e\u30af\u30e9\u30b9\u30bf\u306b\u542b\u307e\u308c\u308b\u8981\u7d20\u306e\u5206\u96e2\u6027\u306e\u30d0\u30e9\u30f3\u30b9\u3092\u6570\u5024\u5316\u3057\u305f\u3082\u306e\n",
      "print(\"Silhouette Coefficient: %0.3f\" % metrics.silhouette_score(vectorized, labels, sample_size=1000))"
     ],
     "language": "python",
     "metadata": {},
     "outputs": [
      {
       "output_type": "stream",
       "stream": "stdout",
       "text": [
        "Adjusted Rand Index: 0.094\n",
        "Adjusted Mutual Information: 0.223\n",
        "Silhouette Coefficient: 0.006"
       ]
      },
      {
       "output_type": "stream",
       "stream": "stdout",
       "text": [
        "\n"
       ]
      }
     ],
     "prompt_number": 74
    },
    {
     "cell_type": "markdown",
     "metadata": {},
     "source": [
      "\u30af\u30a8\u30ea"
     ]
    },
    {
     "cell_type": "code",
     "collapsed": false,
     "input": [
      "new_post"
     ],
     "language": "python",
     "metadata": {},
     "outputs": [
      {
       "metadata": {},
       "output_type": "pyout",
       "prompt_number": 76,
       "text": [
        "\"Disk drive problems. Hi, I have a problem with my hard disk.\\nAfter 1 year it is working only sporadically now.\\nI tried to format it, but now it doesn't boot any more.\\nAny ideas? Thanks.\\n\""
       ]
      }
     ],
     "prompt_number": 76
    },
    {
     "cell_type": "code",
     "collapsed": false,
     "input": [
      "# \u30af\u30a8\u30ea\u306e\u30d9\u30af\u30c8\u30eb\u5316\n",
      "new_post_vec = vectorizer.transform([new_post])\n",
      "\n",
      "# \u30af\u30e9\u30b9\u30bf\u306e\u63a8\u6e2c\n",
      "new_post_label = km.predict(new_post_vec)[0]"
     ],
     "language": "python",
     "metadata": {},
     "outputs": [],
     "prompt_number": 80
    },
    {
     "cell_type": "code",
     "collapsed": false,
     "input": [
      "# \u540c\u3058\u30af\u30e9\u30b9\u30bf\u306b\u6240\u5c5e\u3059\u308b\u6587\u66f8\u306e\u30a4\u30f3\u30c7\u30c3\u30af\u30b9\u3092\u53d6\u5f97\n",
      "similar_indices = (km.labels_ == new_post_label).nonzero()[0]"
     ],
     "language": "python",
     "metadata": {},
     "outputs": [],
     "prompt_number": 81
    },
    {
     "cell_type": "markdown",
     "metadata": {},
     "source": [
      "nonzero\u306f\u30bc\u30ed\u3067\u306a\u3044\u30a4\u30f3\u30c7\u30c3\u30af\u30b9\u3092\u8fd4\u3059"
     ]
    },
    {
     "cell_type": "code",
     "collapsed": false,
     "input": [
      "print(similar_indices)"
     ],
     "language": "python",
     "metadata": {},
     "outputs": [
      {
       "output_type": "stream",
       "stream": "stdout",
       "text": [
        "[  69  152  157  167  201  225  228  233  359  463  479  520  552  580  622\n",
        "  676  779  882  884  917  939 1114 1253 1286 1486 1531 1752 1806 1809 1986\n",
        " 2061 2249 2351 2412 2447 2493 2499 2510 2512 2600 2730 2800 2889 3080 3111\n",
        " 3145 3146 3199 3202 3278 3285 3297 3310 3350 3437 3458]\n"
       ]
      }
     ],
     "prompt_number": 78
    },
    {
     "cell_type": "markdown",
     "metadata": {},
     "source": [
      "nonzero\u306f\u4ee5\u4e0b\u306e\u3088\u3046\u306b\u3001bool\u306b\u3082\u4f7f\u7528\u3067\u304d\u308b\u3002True\u306e\u5834\u5408\u306e\u307f\u62bd\u51fa\u3059\u308b\u3053\u3068\u304c\u3067\u304d\u308b\u3002"
     ]
    },
    {
     "cell_type": "code",
     "collapsed": false,
     "input": [
      "np.array([True, False, True, False, False]).nonzero()"
     ],
     "language": "python",
     "metadata": {},
     "outputs": [
      {
       "metadata": {},
       "output_type": "pyout",
       "prompt_number": 91,
       "text": [
        "(array([0, 2]),)"
       ]
      }
     ],
     "prompt_number": 91
    },
    {
     "cell_type": "code",
     "collapsed": false,
     "input": [
      "np.array([[True, False, True], [True, True, False]]).nonzero()"
     ],
     "language": "python",
     "metadata": {},
     "outputs": [
      {
       "metadata": {},
       "output_type": "pyout",
       "prompt_number": 94,
       "text": [
        "(array([0, 0, 1, 1]), array([0, 2, 0, 1]))"
       ]
      }
     ],
     "prompt_number": 94
    },
    {
     "cell_type": "markdown",
     "metadata": {},
     "source": [
      "\u8ddd\u96e2\u8a08\u7b97"
     ]
    },
    {
     "cell_type": "code",
     "collapsed": false,
     "input": [
      "sp.linalg.norm((new_post_vec - vectorized[0]).toarray())"
     ],
     "language": "python",
     "metadata": {},
     "outputs": [
      {
       "metadata": {},
       "output_type": "pyout",
       "prompt_number": 98,
       "text": [
        "1.4142135623730951"
       ]
      }
     ],
     "prompt_number": 98
    },
    {
     "cell_type": "code",
     "collapsed": false,
     "input": [
      "similar = []\n",
      "similar_index = []\n",
      "for i in similar_indices:\n",
      "    dist = sp.linalg.norm((new_post_vec - vectorized[i]).toarray())\n",
      "    similar.append((dist, train_data.data[i]))\n",
      "    similar_index.append((dist, i))"
     ],
     "language": "python",
     "metadata": {},
     "outputs": [],
     "prompt_number": 100
    },
    {
     "cell_type": "code",
     "collapsed": false,
     "input": [
      "similar_index"
     ],
     "language": "python",
     "metadata": {},
     "outputs": [
      {
       "metadata": {},
       "output_type": "pyout",
       "prompt_number": 101,
       "text": [
        "[(1.2613192374763227, 69),\n",
        " (1.3665586630895377, 152),\n",
        " (1.3230483856740909, 157),\n",
        " (1.160451955581586, 167),\n",
        " (1.1867577549899049, 201),\n",
        " (1.3601802039416646, 225),\n",
        " (1.3074714760135029, 228),\n",
        " (1.3475446115881746, 233),\n",
        " (1.1590572535586865, 359),\n",
        " (1.1503043264096682, 463),\n",
        " (1.3686339201024835, 479),\n",
        " (1.3395099562315893, 520),\n",
        " (1.3405036765703295, 552),\n",
        " (1.2554372724367662, 580),\n",
        " (1.3092623304321134, 622),\n",
        " (1.1539892053985115, 676),\n",
        " (1.3600124807383815, 779),\n",
        " (1.3072768986506598, 882),\n",
        " (1.3287675098520277, 884),\n",
        " (1.2632055766509744, 917),\n",
        " (1.1703009657776047, 939),\n",
        " (1.1063375279728889, 1114),\n",
        " (1.3306004461393541, 1253),\n",
        " (1.2005787014858564, 1286),\n",
        " (1.2666418605121041, 1486),\n",
        " (1.3162209344604823, 1531),\n",
        " (1.0378441731334072, 1752),\n",
        " (1.2793959084781283, 1806),\n",
        " (1.2635553685752812, 1809),\n",
        " (1.1716497460538475, 1986),\n",
        " (1.3383954097713806, 2061),\n",
        " (1.3440642926620332, 2249),\n",
        " (1.3328753056525837, 2351),\n",
        " (1.3233240874750281, 2412),\n",
        " (1.1657785603329736, 2447),\n",
        " (1.3457915508992047, 2493),\n",
        " (1.2634799816995834, 2499),\n",
        " (1.2571713698475409, 2510),\n",
        " (1.1213311970667454, 2512),\n",
        " (1.3077376701447476, 2600),\n",
        " (1.2854652478322826, 2730),\n",
        " (1.156361562019395, 2800),\n",
        " (1.2368000749072581, 2889),\n",
        " (1.2582262180197388, 3080),\n",
        " (1.2316979371219503, 3111),\n",
        " (1.0494693076510362, 3145),\n",
        " (1.3118266609870635, 3146),\n",
        " (1.3464766154690284, 3199),\n",
        " (1.3074012413334692, 3202),\n",
        " (1.3468022970298807, 3278),\n",
        " (1.1760804023305398, 3285),\n",
        " (1.3654831746826823, 3297),\n",
        " (1.3470251456011364, 3310),\n",
        " (1.2542702591505619, 3350),\n",
        " (1.1080887634209331, 3437),\n",
        " (1.1602070210357869, 3458)]"
       ]
      }
     ],
     "prompt_number": 101
    },
    {
     "cell_type": "code",
     "collapsed": false,
     "input": [
      "len(similar)"
     ],
     "language": "python",
     "metadata": {},
     "outputs": [
      {
       "metadata": {},
       "output_type": "pyout",
       "prompt_number": 102,
       "text": [
        "56"
       ]
      }
     ],
     "prompt_number": 102
    },
    {
     "cell_type": "markdown",
     "metadata": {},
     "source": [
      "\u30bd\u30fc\u30c8\u3082\u7c21\u5358\u306b\u884c\u3046\u3053\u3068\u304c\u3067\u304d\u308b"
     ]
    },
    {
     "cell_type": "code",
     "collapsed": false,
     "input": [
      "similar = sorted(similar)"
     ],
     "language": "python",
     "metadata": {},
     "outputs": [],
     "prompt_number": 103
    },
    {
     "cell_type": "code",
     "collapsed": false,
     "input": [
      "print(\"Count similar: %i\" % len(similar))"
     ],
     "language": "python",
     "metadata": {},
     "outputs": [
      {
       "output_type": "stream",
       "stream": "stdout",
       "text": [
        "Count similar: 56\n"
       ]
      }
     ],
     "prompt_number": 104
    },
    {
     "cell_type": "code",
     "collapsed": false,
     "input": [
      "# \u6700\u3082\u985e\u4f3c\n",
      "show_at_1 = similar[0]\n",
      "# \u4e2d\u9593\n",
      "show_at_2 = similar[int(len(similar) / 10)]\n",
      "# \u6700\u3082\u985e\u4f3c\u3057\u3066\u3044\u306a\u3044\n",
      "show_at_3 = similar[int(len(similar) / 2)]"
     ],
     "language": "python",
     "metadata": {},
     "outputs": [],
     "prompt_number": 106
    },
    {
     "cell_type": "code",
     "collapsed": false,
     "input": [
      "print(\"== #1 most similar ==\")\n",
      "print(show_at_1)\n",
      "print(\"== #2 ==\")\n",
      "print(show_at_2)\n",
      "print(\"== #3 most different ==\")\n",
      "print(show_at_3)"
     ],
     "language": "python",
     "metadata": {},
     "outputs": [
      {
       "output_type": "stream",
       "stream": "stdout",
       "text": [
        "== #1 most similar ==\n",
        "(1.0378441731334072, u\"From: Thomas Dachsel <GERTHD@mvs.sas.com>\\nSubject: BOOT PROBLEM with IDE controller\\nNntp-Posting-Host: sdcmvs.mvs.sas.com\\nOrganization: SAS Institute Inc.\\nLines: 25\\n\\nHi,\\nI've got a Multi I/O card (IDE controller + serial/parallel\\ninterface) and two floppy drives (5 1/4, 3 1/2) and a\\nQuantum ProDrive 80AT connected to it.\\nI was able to format the hard disk, but I could not boot from\\nit. I can boot from drive A: (which disk drive does not matter)\\nbut if I remove the disk from drive A and press the reset switch,\\nthe LED of drive A: continues to glow, and the hard disk is\\nnot accessed at all.\\nI guess this must be a problem of either the Multi I/o card\\nor floppy disk drive settings (jumper configuration?)\\nDoes someone have any hint what could be the reason for it.\\nPlease reply by email to GERTHD@MVS.SAS.COM\\nThanks,\\nThomas\\n+-------------------------------------------------------------------+\\n| Thomas Dachsel                                                    |\\n| Internet: GERTHD@MVS.SAS.COM                                      |\\n| Fidonet:  Thomas_Dachsel@camel.fido.de (2:247/40)                 |\\n| Subnet:   dachsel@rnivh.rni.sub.org (UUCP in Germany, now active) |\\n| Phone:    +49 6221 4150 (work), +49 6203 12274 (home)             |\\n| Fax:      +49 6221 415101                                         |\\n| Snail:    SAS Institute GmbH, P.O.Box 105307, D-W-6900 Heidelberg |\\n| Tagline:  One bad sector can ruin a whole day...                  |\\n+-------------------------------------------------------------------+\\n\")\n",
        "== #2 ==\n",
        "(1.1503043264096682, u'From: rpao@mts.mivj.ca.us (Roger C. Pao)\\nSubject: Re: Booting from B drive\\nOrganization: MicroTech Software\\nLines: 34\\n\\nglang@slee01.srl.ford.com (Gordon Lang) writes:\\n\\n>David Weisberger (djweisbe@unix.amherst.edu) wrote:\\n>: I have a 5 1/4\" drive as drive A.  How can I make the system boot from\\n>: my 3 1/2\" B drive?  (Optimally, the computer would be able to boot\\n>: from either A or B, checking them in order for a bootable disk.  But\\n>: if I have to switch cables around and simply switch the drives so that\\n>: it can\\'t boot 5 1/4\" disks, that\\'s OK.  Also, boot_b won\\'t do the trick\\n>: for me.)\\n>: \\n>: Thanks,\\n>:   Davebo\\n>We had the same issue plague us for months on our Gateway.  I finally\\n>got tired of it so I permanently interchanged the drives.  The only\\n>reason I didn\\'t do it in the first place was because I had several\\n>bootable 5-1/4\\'s and some 5-1/4 based install disks which expected\\n>the A drive.  I order all new software (and upgrades) to be 3-1/2 and\\n>the number of \"stupid\" install programs that can\\'t handle an alternate\\n>drive are declining with time - the ones I had are now upgraded.  And\\n>as for the bootable 5-1/4\\'s I just cut 3-1/2 replacements.\\n\\n>If switching the drives is not an option, you might be able to wire up\\n>a drive switch to your computer chasis.  I haven\\'t tried it but I think\\n>it would work as long as it is wired carefully.\\n\\nI did this.  I use a relay (Radio Shack 4PDT) instead of a huge\\nswitch.  This way, if the relay breaks, my drives will still work.\\n\\nIt works fine, but you may still need to change the CMOS before the\\ndrive switch will work correctly for some programs.\\n\\nrp93\\n-- \\nRoger C. Pao  {gordius,bagdad}!mts!rpao, rpao@mts.mivj.ca.us\\n')\n",
        "== #3 most different ==\n",
        "(1.2793959084781283, u'From: vg@volkmar.Stollmann.DE (Volkmar Grote)\\nSubject: IBM PS/1 vs TEAC FD\\nDistribution: world\\nOrganization: Me? Organized?\\nLines: 21\\n\\nHello,\\n\\nI already tried our national news group without success.\\n\\nI tried to replace a friend\\'s original IBM floppy disk in his PS/1-PC\\nwith a normal TEAC drive.\\nI already identified the power supply on pins 3 (5V) and 6 (12V), shorted\\npin 6 (5.25\"/3.5\" switch) and inserted pullup resistors (2K2) on pins\\n8, 26, 28, 30, and 34.\\nThe computer doesn\\'t complain about a missing FD, but the FD\\'s light\\nstays on all the time. The drive spins up o.k. when I insert a disk,\\nbut I can\\'t access it.\\nThe TEAC works fine in a normal PC.\\n\\nAre there any points I missed?\\n\\nThank you.\\n\\tVolkmar\\n\\n---\\nVolkmar.Grote@Stollmann.DE\\n')\n"
       ]
      }
     ],
     "prompt_number": 109
    },
    {
     "cell_type": "heading",
     "level": 3,
     "metadata": {},
     "source": [
      "\u30ce\u30a4\u30ba\u306b\u5bfe\u3059\u308b\u5225\u306e\u898b\u65b9"
     ]
    },
    {
     "cell_type": "heading",
     "level": 4,
     "metadata": {},
     "source": [
      "\u30af\u30e9\u30b9\u30bf\u30ea\u30f3\u30b0\u3092\u5b8c\u74a7\u306b\u3059\u308b\u3088\u308a\u3082\u3001\u30ce\u30a4\u30ba\u306e\u6271\u3044\u65b9\u306b\u6ce8\u610f\u305b\u3088"
     ]
    },
    {
     "cell_type": "markdown",
     "metadata": {},
     "source": [
      "zip\u95a2\u6570\u306f\u30ea\u30b9\u30c8\u306e\u30bf\u30d7\u30eb\u3092\u30bf\u30d7\u30eb\u306e\u30ea\u30b9\u30c8\u306b\u3059\u308b  \n",
      "\u8907\u6570\u306e\u30b7\u30fc\u30b1\u30f3\u30b9\u306b\u5bfe\u3059\u308b\u30eb\u30fc\u30d7\u304c\u30b7\u30f3\u30d7\u30eb\u306b\u66f8\u3051\u308b"
     ]
    },
    {
     "cell_type": "code",
     "collapsed": false,
     "input": [
      "post_group = zip(train_data.data, train_data.target)"
     ],
     "language": "python",
     "metadata": {},
     "outputs": [],
     "prompt_number": 122
    },
    {
     "cell_type": "code",
     "collapsed": false,
     "input": [
      "all = [(len(post[0]), post[0], train_data.target_names[post[1]])\n",
      "       for post in post_group]\n",
      "graphics = sorted([post for post in all if post[2] == 'comp.graphics'])\n",
      "print(graphics[5:7])"
     ],
     "language": "python",
     "metadata": {},
     "outputs": [
      {
       "output_type": "stream",
       "stream": "stdout",
       "text": [
        "[(245, u'From: SITUNAYA@IBM3090.BHAM.AC.UK\\nSubject: test....(sorry)\\nOrganization: The University of Birmingham, United Kingdom\\nLines: 1\\nNNTP-Posting-Host: ibm3090.bham.ac.uk\\n\\n==============================================================================\\n', 'comp.graphics'), (250, u\"From: pallis@server.uwindsor.ca (PALLIS  DIMITRIOS        )\\nSubject: Re: Genoa Blitz 24 hits 1600x1200x256 NI !\\nLines: 3\\n\\ni am sorry, but this genoa card does nothing that the ATI ultra plus 2mb\\ncan't do, PLUS the ATI costs 330$US street price ....\\n\\n\", 'comp.graphics')]\n"
       ]
      }
     ],
     "prompt_number": 133
    },
    {
     "cell_type": "markdown",
     "metadata": {},
     "source": [
      "\u4e0a\u8a18\u306e2\u3064\u306e\u6587\u66f8\u304c\u3001\u306a\u305ccomp.graphics\u306b\u5c5e\u3059\u308b\u306e\u304b\u3001\u5206\u985e\u306e\u6c7a\u3081\u3066\u306f\u898b\u3064\u304b\u3089\u306a\u3044\u306e\u3067\u3001\u5358\u8a9e\u5316\u3092\u884c\u3046\u3002"
     ]
    },
    {
     "cell_type": "code",
     "collapsed": false,
     "input": [
      "noise_post = graphics[5][1]\n",
      "print(noise_post)\n",
      "analyzer = vectorizer.build_analyzer()\n",
      "print(list(analyzer(noise_post)))"
     ],
     "language": "python",
     "metadata": {},
     "outputs": [
      {
       "output_type": "stream",
       "stream": "stdout",
       "text": [
        "From: SITUNAYA@IBM3090.BHAM.AC.UK\n",
        "Subject: test....(sorry)\n",
        "Organization: The University of Birmingham, United Kingdom\n",
        "Lines: 1\n",
        "NNTP-Posting-Host: ibm3090.bham.ac.uk\n",
        "\n",
        "==============================================================================\n",
        "\n",
        "[u'situnaya', u'ibm3090', u'bham', u'ac', u'uk', u'subject', u'test', u'sorri', u'organ', u'univers', u'birmingham', u'unit', u'kingdom', u'line', u'nntp', u'post', u'host', u'ibm3090', u'bham', u'ac', u'uk']\n"
       ]
      }
     ],
     "prompt_number": 141
    },
    {
     "cell_type": "code",
     "collapsed": false,
     "input": [
      "noise_post_2 = graphics[6][1]\n",
      "print(noise_post_2)\n",
      "analyzer = vectorizer.build_analyzer()\n",
      "print(list(analyzer(noise_post_2)))"
     ],
     "language": "python",
     "metadata": {},
     "outputs": [
      {
       "output_type": "stream",
       "stream": "stdout",
       "text": [
        "From: pallis@server.uwindsor.ca (PALLIS  DIMITRIOS        )\n",
        "Subject: Re: Genoa Blitz 24 hits 1600x1200x256 NI !\n",
        "Lines: 3\n",
        "\n",
        "i am sorry, but this genoa card does nothing that the ATI ultra plus 2mb\n",
        "can't do, PLUS the ATI costs 330$US street price ....\n",
        "\n",
        "\n",
        "[u'palli', u'server', u'uwindsor', u'ca', u'palli', u'dimitrio', u'subject', u'genoa', u'blitz', u'24', u'hit', u'1600x1200x256', u'ni', u'line', u'sorri', u'genoa', u'card', u'doe', u'ati', u'ultra', u'plus', u'2mb', u'plus', u'ati', u'cost', u'330', u'street', u'price']\n"
       ]
      }
     ],
     "prompt_number": 142
    },
    {
     "cell_type": "markdown",
     "metadata": {},
     "source": [
      "\u3055\u3089\u306b\u30c8\u30fc\u30af\u30f3\u5316\u3001\u5c0f\u6587\u5b57\u306b\u5909\u63db\u3001\u30b9\u30c8\u30c3\u30d7\u30ef\u30fc\u30c9\u3092\u53d6\u308a\u9664\u3044\u305f\u7d50\u679c\u3092\u898b\u3066\u307f\u308b"
     ]
    },
    {
     "cell_type": "code",
     "collapsed": false,
     "input": [
      "useful = set(analyzer(noise_post)).intersection(vectorizer.get_feature_names())\n",
      "print(sorted(useful))"
     ],
     "language": "python",
     "metadata": {},
     "outputs": [
      {
       "output_type": "stream",
       "stream": "stdout",
       "text": [
        "[u'ac', u'birmingham', u'host', u'kingdom', u'nntp', u'sorri', u'test', u'uk', u'unit', u'univers']\n"
       ]
      }
     ],
     "prompt_number": 145
    },
    {
     "cell_type": "code",
     "collapsed": false,
     "input": [
      "useful_2 = set(analyzer(noise_post_2)).intersection(vectorizer.get_feature_names())\n",
      "print(sorted(useful))"
     ],
     "language": "python",
     "metadata": {},
     "outputs": [
      {
       "output_type": "stream",
       "stream": "stdout",
       "text": [
        "[u'ac', u'birmingham', u'host', u'kingdom', u'nntp', u'sorri', u'test', u'uk', u'unit', u'univers']\n"
       ]
      }
     ],
     "prompt_number": 146
    },
    {
     "cell_type": "markdown",
     "metadata": {},
     "source": [
      "\u3055\u3089\u306b\u3001\u4ed6\u306e\u6587\u66f8\u306b\u591a\u304f\u73fe\u308c\u308b\u5358\u8a9e\u304b\u3069\u3046\u304b\uff08\u5206\u985e\u306b\u5bc4\u4e0e\u3059\u308b\u304b\u3069\u3046\u304b\uff09\u3092\u898b\u308b\u305f\u3081\u3001TF-IDF\u3082\u898b\u308b\u5fc5\u8981\u304c\u3042\u308b\u3002"
     ]
    },
    {
     "cell_type": "code",
     "collapsed": false,
     "input": [
      "for term in sorted(useful):\n",
      "    print('IDF(%s)=%.2f' % (term,\n",
      "                            vectorizer._tfidf.idf_[vectorizer.vocabulary_[term]]))"
     ],
     "language": "python",
     "metadata": {},
     "outputs": [
      {
       "output_type": "stream",
       "stream": "stdout",
       "text": [
        "IDF(ac)=3.51\n",
        "IDF(birmingham)=6.77\n",
        "IDF(host)=1.74\n",
        "IDF(kingdom)=6.68\n",
        "IDF(nntp)=1.77\n",
        "IDF(sorri)=4.14\n",
        "IDF(test)=3.83\n",
        "IDF(uk)=3.70\n",
        "IDF(unit)=4.42\n",
        "IDF(univers)=1.91\n"
       ]
      }
     ],
     "prompt_number": 147
    },
    {
     "cell_type": "markdown",
     "metadata": {},
     "source": [
      "\u4e0a\u8a18\u4f8b\u3060\u3068\u3001birmingham\u3068kingdom\u306e2\u3064\u306e\u5358\u8a9e\u304c\u3001\u5206\u985e\u306b\u5927\u304d\u304f\u5bc4\u4e0e\u3057\u3066\u3044\u308b\u3053\u3068\u304c\u308f\u304b\u308b\u3002"
     ]
    },
    {
     "cell_type": "heading",
     "level": 3,
     "metadata": {},
     "source": [
      "\u307e\u3068\u3081"
     ]
    },
    {
     "cell_type": "markdown",
     "metadata": {},
     "source": [
      "\u3053\u3053\u307e\u3067\u3001\u6587\u66f8\u306e\u985e\u4f3c\u5ea6\u3084\u30af\u30e9\u30b9\u30bf\u30ea\u30f3\u30b0\u3092\u5b66\u3076\u305f\u3081\u3001\u4ee5\u4e0b\u306e\u69d8\u306a\u624b\u6cd5\u3092\u78ba\u8a8d\u3057\u305f\u3002 \n",
      "\n",
      "- \u6587\u66f8\u306e\u7279\u5fb4\u30d9\u30af\u30c8\u30eb\u306e\u751f\u6210\n",
      "- \u7279\u5fb4\u30d9\u30af\u30c8\u30eb\u306e\u8ddd\u96e2\n",
      "- \u30af\u30e9\u30b9\u30bf\u30ea\u30f3\u30b0\u306e\u624b\u6cd5\n",
      "- metrics\u306b\u3088\u308b\u30af\u30e9\u30b9\u30bf\u30ea\u30f3\u30b0\u306e\u8a55\u4fa1\n",
      "- \u6587\u66f8\u306e\u30ce\u30a4\u30ba\n",
      "\n",
      "\u6539\u5584\u306e\u4f59\u5730\u304c\u3042\u308b\u9805\u76ee\u3082\u591a\u3044\u3002\n",
      "\n",
      "- \u7279\u5fb4\u30d9\u30af\u30c8\u30eb\u306e\u6570\n",
      "- \u7279\u5fb4\u30d9\u30af\u30c8\u30eb\u306e\u8ddd\u96e2\u3092\u5909\u66f4\u3059\u308b\uff08cos\u985e\u4f3c\u5ea6\u3084\u30d4\u30a2\u30bd\u30f3\u76f8\u95a2\u4fc2\u6570\u3001Jaccard\u4fc2\u6570\u306a\u3069\uff09\n",
      "- \u30af\u30e9\u30b9\u30bf\u30ea\u30f3\u30b0\u624b\u6cd5\u306e\u5909\u66f4(K-Means\u4ee5\u5916\u306b\u3082\u591a\u304f\u306e\u30af\u30e9\u30b9\u30bf\u30ea\u30f3\u30b0\u624b\u6cd5\u304c\u5b58\u5728\u3059\u308b)"
     ]
    }
   ],
   "metadata": {}
  }
 ]
}